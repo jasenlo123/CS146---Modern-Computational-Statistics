{
 "cells": [
  {
   "cell_type": "markdown",
   "metadata": {},
   "source": [
    "# CS146 - Assignment 4\n",
    "## Jasen Lo\n",
    "\n",
    "### Posterior predictive tests. \n",
    "Refer back to the medical trial pre-class work notebook from\n",
    "Session 8.1. The notebook contains a non-hierarchical model (first) and a hierarchical\n",
    "model (second).\n",
    "For the non-hierarchical model and the control group half of the data set, choose a test\n",
    "statistic to show that the non-hierarchical model does not explain the control group data\n",
    "well. You should generate posterior data samples from this model and compare the test\n",
    "statistic of the real data to the distribution under your samples from the posterior. Note that\n",
    "the posterior distribution for this model is already provided in the notebook, so you don’t\n",
    "have to calculate it.\n",
    "Submit your test statistic function, your code for generating samples from the posterior and\n",
    "computing the test statistic, and a histogram analogous to Gelman Figure 6.4 (reproduced\n",
    "below). Also, calculate and provide your p-value. Since the test statistic is supposed to\n",
    "show a deficiency of the model the p-value should be less than 0.05 or greater than 0.95.\n",
    "\n",
    "\n",
    "We consider the eczema medical trial data set again. This time we will compare which of 2 models explain the observed data best.\n",
    "\n",
    "* Model 1: All studies have the same probability of success.\n",
    "\n",
    "\n",
    "|Study          | Treatment group |   Control group  |\n",
    "|---------------|-----------------|------------------|\n",
    "|Di Rienzo 2014 |     20 / 23     |        9 / 15    |\n",
    "|Galli 1994     |     10 / 16     |       11 / 18    |\n",
    "|Kaufman 1974   |     13 / 16     |        4 / 10    |\n",
    "|Qin 2014       |     35 / 45     |       21 / 39    |\n",
    "|Sanchez 2012   |     22 / 31     |       12 / 29    |\n",
    "|Silny 2006     |      7 / 10     |        0 / 10    |\n",
    "|**Totals**     |    107 / 141    |       57 / 121   |\n",
    "\n",
    "\n",
    "**Model 1:**\n",
    "\n",
    "* For each group (treatment and control), all 6 studies have the same fixed, but unknown, probability of success, $\\theta_t,\\theta_c\\in[0,1]$.\n",
    "* The data follow a binomial distribution in each study, conditioned on the probability of success — $\\theta_t$ for treatment or $\\theta_c$ for control.\n",
    "* The priors over $\\theta_t$ and $\\theta_c$ are uniform.\n",
    "\n",
    "These assumptions lead to the following model.\n",
    "\n",
    "* Likelihood: $\\prod_{i=1}^6 \\text{Binomial}(s_i\\,|\\,\\theta, n_i)$, where $s_i$ is the number of successful recoveries, $f_i$ is the number of failures (did not recover), and $n_i=s_i+f_i$ the number of patients.\n",
    "\n",
    "* Prior: $\\text{Beta}(\\theta\\,|\\,1,1)$ for both $\\theta_t$ and $\\theta_c$.\n",
    "\n",
    "* Posterior for treatment group: $\\text{Beta}(\\theta_t\\,|\\,108, 35)$.\n",
    "\n",
    "* Posterior for control group: $\\text{Beta}(\\theta_c\\,|\\,58, 65)$."
   ]
  },
  {
   "cell_type": "code",
   "execution_count": 161,
   "metadata": {},
   "outputs": [],
   "source": [
    "import matplotlib.pyplot as plt\n",
    "import numpy as np\n",
    "import scipy.stats as sts\n",
    "\n",
    "#control successes\n",
    "control_sucess_data = [9,11,4,21,12,0]\n",
    "\n",
    "#control count\n",
    "control_total_data = [15,18,10,39,29,10]"
   ]
  },
  {
   "cell_type": "code",
   "execution_count": 162,
   "metadata": {},
   "outputs": [],
   "source": [
    "#test statistic of the standard deviation of the success rates of the six trials for the control data.\n",
    "#I choose the standard deviation to be the test statistic because looking at the control group data, there seems\n",
    "#to be a large variety of sucess rates ranging from 0% to 60%. By assuming each of the trials has a fixed probability\n",
    "#sucess (theta), my intuition is that the model will most likely under estimate the deviation of rates of success\n",
    "#in each trial. The model will fails if most of the standard deviations of the replicated data fall to the left (less)\n",
    "#of the observed data standard deviation\n",
    "\n",
    "def test_statistic(data):\n",
    "    s_rates = []\n",
    "    for i in range(len(data)):\n",
    "        s_rate = data[i]/control_control_total_data[i]\n",
    "        s_rates.append(s_rate)\n",
    "    stdev = np.std(s_rates)\n",
    "    return stdev"
   ]
  },
  {
   "cell_type": "code",
   "execution_count": 163,
   "metadata": {},
   "outputs": [
    {
     "name": "stdout",
     "output_type": "stream",
     "text": [
      "[[6, 7, 5, 22, 16, 5], [8, 9, 8, 17, 13, 5], [7, 9, 3, 18, 14, 5]]\n"
     ]
    }
   ],
   "source": [
    "#generate 1000 posterior samples of theta\n",
    "posterior_samples = sts.beta.rvs(a=58,b=65,size=1000)\n",
    "\n",
    "#empty list for 1000 lists of replicated data\n",
    "rep_data_list = []\n",
    "\n",
    "#for loop goes through each sample theta\n",
    "for i in posterior_samples:\n",
    "    \n",
    "    #empty list of sucessful cases in each of the 6 trial for sample theta\n",
    "    likelihoods =[]\n",
    "    \n",
    "    #for loop goes through the 6 likelihood functions\n",
    "    for j in control_c:\n",
    "        \n",
    "        #generates a sample number of successful cases in each trial\n",
    "        s = int(sts.binom.rvs(n = j, p = i, size = 1))\n",
    "        \n",
    "    #appends to inner and outer lists\n",
    "        likelihoods.append(s)\n",
    "    rep_data_list.append(likelihoods)\n",
    "    \n",
    "#sanity check.\n",
    "print(rep_data_list[:3])"
   ]
  },
  {
   "cell_type": "code",
   "execution_count": 164,
   "metadata": {},
   "outputs": [],
   "source": [
    "#Creates list of 1000 test statistics \n",
    "#for the 1000 replicated data sets\n",
    "rep_test_stat = []\n",
    "for i in rep_data_list:\n",
    "    rep_test_stat.append(test_stat(i))\n",
    "\n",
    "#Test statistic for observed data \n",
    "true_test_stat = test_stat(control_sucess_data)"
   ]
  },
  {
   "cell_type": "code",
   "execution_count": 165,
   "metadata": {},
   "outputs": [
    {
     "data": {
      "image/png": "[encoded data removed]",
      "text/plain": [
       "<Figure size 864x432 with 1 Axes>"
      ]
     },
     "metadata": {
      "needs_background": "light"
     },
     "output_type": "display_data"
    },
    {
     "name": "stdout",
     "output_type": "stream",
     "text": [
      "p_value =  0.009\n",
      "Observed Data Standard Deviation 0.20795900518575364\n",
      "Average of the Replicated Data Standard Deviations 0.10767114414619906\n"
     ]
    }
   ],
   "source": [
    "#histogram analogous to Gelman Figure 6.4\n",
    "plt.figure(figsize=(12, 6))\n",
    "plt.hist(rep_test_stat)\n",
    "plt.axvline(true_test_stat, color = 'r')\n",
    "plt.text(true_test_stat+0.001,100,'Observed Data Standard Deviation = 0.208')\n",
    "plt.title(\"Distribution of Standard Deviation in Replicated Data\")\n",
    "plt.show()\n",
    "\n",
    "#Also, calculate and provide your p-value. Since the test statistic is supposed to\n",
    "#show a deficiency of the model the p-value should be less than 0.05 or greater than 0.95.\n",
    "outlier = 0\n",
    "for i in rep_test_stat:\n",
    "    if i > true_test_stat:\n",
    "        outlier += 1\n",
    "p_value = outlier/len(rep_test_stat)\n",
    "print(\"p_value = \", p_value)\n",
    "print(\"Observed Data Standard Deviation\", true_test_stat)\n",
    "print(\"Average of the Replicated Data Standard Deviations\", np.mean(rep_test_stat))"
   ]
  },
  {
   "cell_type": "markdown",
   "metadata": {},
   "source": [
    "### 2. Posterior predictive tests. \n",
    "Again, refer back to the medical trial pre-class work notebook from Session 8.1. Generate samples from the posterior data distribution of the hierarchical model and evaluate the same test statistic(s) for the control group as you did for the non-hierarchical model in the required exercise above. What are the histograms and\n",
    "p-values in the hierarchical case? Can you create a new test statistic that points out a\n",
    "deficiency of the hierarchical model on the control group data?"
   ]
  },
  {
   "cell_type": "code",
   "execution_count": 166,
   "metadata": {},
   "outputs": [],
   "source": [
    "import pystan"
   ]
  },
  {
   "cell_type": "code",
   "execution_count": 176,
   "metadata": {},
   "outputs": [],
   "source": [
    "# For Stan we provide all known quantities as data, namely the observed data\n",
    "# and our prior hyperparameters.\n",
    "stan_data = {\n",
    "    'control': {\n",
    "        'alpha': 1,\n",
    "        'beta': 1,\n",
    "        'num_trials': 6,\n",
    "        'patients': [15, 18, 10, 39, 29, 10],\n",
    "        'improved': [9, 11, 4, 21, 12, 0]}}"
   ]
  },
  {
   "cell_type": "code",
   "execution_count": 177,
   "metadata": {},
   "outputs": [],
   "source": [
    "# Below is the Stan code for the medical trial data set. Note that the Stan\n",
    "# code is a string that is passed to the StanModel object below.\n",
    "\n",
    "# We have to tell Stan what data to expect, what our parameters are and what\n",
    "# the likelihood and prior are. Since the posterior is just proportional to\n",
    "# the product of the likelihood and the prior, we don't distinguish between\n",
    "# them explicitly in the model below. Every distribution we specify is\n",
    "# automatically incorporated into the product of likelihood * prior.\n",
    "\n",
    "stan_code = \"\"\"\n",
    "\n",
    "// The data block contains all known quantities - typically the observed\n",
    "// data and any constant hyperparameters.\n",
    "data {  \n",
    "    int<lower=1> num_trials;  // number of trials in the data set\n",
    "    int<lower=0> patients[num_trials];  // number of patients per trial\n",
    "    int<lower=0> improved[num_trials];  // number of improved patients per trial\n",
    "    real<lower=0> alpha;  // fixed prior hyperparameter\n",
    "    real<lower=0> beta;   // fixed prior hyperparameter\n",
    "}\n",
    "\n",
    "// The parameters block contains all unknown quantities - typically the\n",
    "// parameters of the model. Stan will generate samples from the posterior\n",
    "// distributions over all parameters.\n",
    "parameters {\n",
    "    real<lower=0,upper=1> p;  // probability of improvement - the\n",
    "                              // parameter of the binomial likelihood\n",
    "}\n",
    "\n",
    "// The model block contains all probability distributions in the model.\n",
    "// Think of this as specifying the generative model for the scenario.\n",
    "model {\n",
    "    p ~ beta(alpha, beta);  // prior over p\n",
    "    for(i in 1:num_trials) {\n",
    "        improved[i] ~ binomial(patients[i], p);  // likelihood function\n",
    "    }\n",
    "}\n",
    "\n",
    "\"\"\""
   ]
  },
  {
   "cell_type": "code",
   "execution_count": 143,
   "metadata": {},
   "outputs": [
    {
     "name": "stderr",
     "output_type": "stream",
     "text": [
      "INFO:pystan:COMPILING THE C++ CODE FOR MODEL anon_model_fb314c3a111e1df367a935c155d82062 NOW.\n"
     ]
    }
   ],
   "source": [
    "# This cell takes a while to run. Compiling a Stan model will feel slow even\n",
    "# on simple models, but it isn't much slower for really complex models. Stan\n",
    "# is translating the model specified above to C++ code and compiling the C++\n",
    "# code to a binary that it can executed. The advantage is that the model needs\n",
    "# to be compiled only once. Once that is done, the same code can be reused\n",
    "# to generate samples for different data sets really quickly.\n",
    "\n",
    "stan_model = pystan.StanModel(model_code=stan_code)"
   ]
  },
  {
   "cell_type": "code",
   "execution_count": 178,
   "metadata": {},
   "outputs": [
    {
     "name": "stdout",
     "output_type": "stream",
     "text": [
      "[[9, 12, 5, 25, 14, 5], [9, 7, 4, 20, 7, 5], [9, 11, 6, 18, 10, 4]]\n"
     ]
    }
   ],
   "source": [
    "# Fit the model to the data. This will generate samples from the posterior over\n",
    "# all parameters of the model. We start by computing posteriors for the treatment\n",
    "# data.\n",
    "\n",
    "stan_results_control = stan_model.sampling(data=stan_data['control'])\n",
    "posterior_samples_control = stan_results_control.extract()\n",
    "posterior_samples_2 = posterior_samples_control['p']\n",
    "\n",
    "#empty list for 1000 lists of replicated data\n",
    "rep_data_list = []\n",
    "\n",
    "#for loop goes through each sample theta\n",
    "for i in posterior_samples_2:\n",
    "    \n",
    "    #empty list of sucessful cases in each of the 6 trial for sample theta\n",
    "    likelihoods =[]\n",
    "    \n",
    "    #for loop goes through the 6 likelihood functions\n",
    "    for j in control_c:\n",
    "        \n",
    "        #generates a sample number of successful cases in each trial\n",
    "        s = int(sts.binom.rvs(n = j, p = i, size = 1))\n",
    "        \n",
    "    #appends to inner and outer lists\n",
    "        likelihoods.append(s)\n",
    "    rep_data_list.append(likelihoods)\n",
    "    \n",
    "#sanity check.\n",
    "print(rep_data_list[:3])"
   ]
  },
  {
   "cell_type": "code",
   "execution_count": 179,
   "metadata": {},
   "outputs": [],
   "source": [
    "#Creates list of 1000 test statistics \n",
    "#for the 1000 replicated data sets\n",
    "rep_test_stat = []\n",
    "for i in rep_data_list:\n",
    "    rep_test_stat.append(test_stat(i))\n"
   ]
  },
  {
   "cell_type": "code",
   "execution_count": 180,
   "metadata": {},
   "outputs": [
    {
     "data": {
      "image/png": "[encoded data removed]",
      "text/plain": [
       "<Figure size 864x432 with 1 Axes>"
      ]
     },
     "metadata": {
      "needs_background": "light"
     },
     "output_type": "display_data"
    },
    {
     "name": "stdout",
     "output_type": "stream",
     "text": [
      "p_value =  0.00625\n",
      "Observed Data Standard Deviation 0.20795900518575364\n",
      "Average of the Replicated Data Standard Deviations 0.10756264353340345\n"
     ]
    }
   ],
   "source": [
    "#Surprised to find that the hierarchical model also models the standard deviation of the successes of the \n",
    "#control data poorly, worst than the first model, with an even lower p-value of 0.00625\n",
    "\n",
    "#histogram analogous to Gelman Figure 6.4\n",
    "plt.figure(figsize=(12, 6))\n",
    "plt.hist(rep_test_stat)\n",
    "plt.axvline(true_test_stat, color = 'r')\n",
    "plt.text(true_test_stat+0.001,100,'Observed Data Standard Deviation = 0.208')\n",
    "plt.title(\"Distribution of Standard Deviation in Replicated Data\")\n",
    "plt.show()\n",
    "\n",
    "#Also, calculate and provide your p-value. Since the test statistic is supposed to\n",
    "#show a deficiency of the model the p-value should be less than 0.05 or greater than 0.95.\n",
    "outlier = 0\n",
    "for i in rep_test_stat:\n",
    "    if i > true_test_stat:\n",
    "        outlier += 1\n",
    "p_value = outlier/len(rep_test_stat)\n",
    "print(\"p_value = \", p_value)\n",
    "print(\"Observed Data Standard Deviation\", true_test_stat)\n",
    "print(\"Average of the Replicated Data Standard Deviations\", np.mean(rep_test_stat))"
   ]
  }
 ],
 "metadata": {
  "kernelspec": {
   "display_name": "Python 3",
   "language": "python",
   "name": "python3"
  },
  "language_info": {
   "codemirror_mode": {
    "name": "ipython",
    "version": 3
   },
   "file_extension": ".py",
   "mimetype": "text/x-python",
   "name": "python",
   "nbconvert_exporter": "python",
   "pygments_lexer": "ipython3",
   "version": "3.7.6"
  }
 },
 "nbformat": 4,
 "nbformat_minor": 4
}
