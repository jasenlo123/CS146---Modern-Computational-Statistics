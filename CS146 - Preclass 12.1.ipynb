{
 "cells": [
  {
   "cell_type": "code",
   "execution_count": 40,
   "metadata": {},
   "outputs": [
    {
     "name": "stdout",
     "output_type": "stream",
     "text": [
      "This match seems to be not so fair\n"
     ]
    }
   ],
   "source": [
    "from trueskill import Rating, quality_1vs1, rate_1vs1, quality, rate\n",
    "alice, bob = Rating(30), Rating(30)  # assign Alice and Bob's ratings\n",
    "if quality_1vs1(alice, bob) < 0.50:\n",
    "    print('This match seems to be not so fair')\n",
    "alice, bob = rate_1vs1(alice, bob)  # update the ratings after the match"
   ]
  },
  {
   "cell_type": "code",
   "execution_count": 38,
   "metadata": {},
   "outputs": [
    {
     "data": {
      "text/plain": [
       "0.44592747324992565"
      ]
     },
     "execution_count": 38,
     "metadata": {},
     "output_type": "execute_result"
    }
   ],
   "source": [
    "alice, bob = Rating(100), Rating(99)  # assign Alice and Bob's ratings\n",
    "quality_1vs1(alice, bob)"
   ]
  },
  {
   "cell_type": "code",
   "execution_count": 45,
   "metadata": {},
   "outputs": [
    {
     "name": "stdout",
     "output_type": "stream",
     "text": [
      "[trueskill.Rating(mu=100.000, sigma=8.333)]\n",
      "[trueskill.Rating(mu=1.000, sigma=8.333), trueskill.Rating(mu=12.000, sigma=8.333)]\n"
     ]
    }
   ],
   "source": [
    "r1 = Rating(100)  # 1P's skill\n",
    "r2 = Rating(1)  # 2P's skill\n",
    "r3 = Rating(12)  # 3P's skill\n",
    "t1 = [r1]  # Team A contains just 1P\n",
    "t2 = [r2, r3]  # Team B contains 2P and 3P\n",
    "\n",
    "print(t1)\n",
    "print(t2)"
   ]
  },
  {
   "cell_type": "code",
   "execution_count": 46,
   "metadata": {},
   "outputs": [
    {
     "name": "stdout",
     "output_type": "stream",
     "text": [
      "0.0% chance to draw\n",
      "trueskill.Rating(mu=75.814, sigma=7.173)\n",
      "trueskill.Rating(mu=25.186, sigma=7.173)\n",
      "trueskill.Rating(mu=36.186, sigma=7.173)\n"
     ]
    }
   ],
   "source": [
    "from trueskill import Rating\n",
    "print('{:.1%} chance to draw'.format(quality([t1, t2])))\n",
    "(new_r1,), (new_r2, new_r3) = rate([t1, t2], ranks=[1, 0])\n",
    "print(new_r1)\n",
    "print(new_r2)\n",
    "print(new_r3)\n",
    "\n"
   ]
  },
  {
   "cell_type": "code",
   "execution_count": 56,
   "metadata": {},
   "outputs": [
    {
     "name": "stdout",
     "output_type": "stream",
     "text": [
      "5000 games processed\n",
      "10000 games processed\n",
      "15000 games processed\n",
      "20000 games processed\n",
      "25000 games processed\n",
      "30000 games processed\n",
      "35000 games processed\n",
      "40000 games processed\n",
      "45000 games processed\n",
      "done\n"
     ]
    }
   ],
   "source": [
    "data_url = 'https://course-resources.minerva.kgi.edu/uploaded_files/mke/00090402-4649/tennis-data.csv'\n",
    "text = requests.get(data_url).content.decode('latin-1').strip()\n",
    "lines =\t(line for line in text.strip().split('\\n'))\n",
    "\n",
    "# Create a TrueSkill environment with 0 probability of a draw\n",
    "env = trueskill.TrueSkill(draw_probability=0)\n",
    "\n",
    "players = {}  # player name: player rating\n",
    "first_game = {}  # player name: date of first game\n",
    "last_game = {}  # player name: date of last game\n",
    "\n",
    "count = 0\n",
    "reader = csv.reader((line.decode('latin-1') for line in requests.get(data_url).iter_lines()))\n",
    "header = next(reader)  # First line of CSV file is the header\n",
    "for datum in (dict(zip(header, _)) for _ in reader):\n",
    "    if datum == {}:\n",
    "        # Skip empty rows\n",
    "        continue\n",
    "\n",
    "    # It turns out names sometimes have trailing spaces, so strip those to avoid duplicates\n",
    "    winner_name = datum['Winner'].strip()\n",
    "    loser_name = datum['Loser'].strip()\n",
    "\n",
    "    # Get or create ratings\n",
    "    winner = players.get(winner_name) or env.create_rating()\n",
    "    loser = players.get(loser_name) or env.create_rating()\n",
    "\n",
    "    # Update ratings, and first and last played dates\n",
    "    players[winner_name], players[loser_name] = env.rate_1vs1(winner, loser)\n",
    "    first_game.setdefault(winner_name, datum['Date'])\n",
    "    first_game.setdefault(loser_name, datum['Date'])\n",
    "    last_game[winner_name] = last_game[loser_name] = datum['Date']\n",
    "\n",
    "    # Display progress through data file\n",
    "    count += 1\n",
    "    if count % 5000 == 0:\n",
    "        print(count, 'games processed')\n",
    "print('done')"
   ]
  },
  {
   "cell_type": "code",
   "execution_count": 61,
   "metadata": {},
   "outputs": [],
   "source": [
    "import numpy as np"
   ]
  },
  {
   "cell_type": "code",
   "execution_count": 62,
   "metadata": {},
   "outputs": [
    {
     "name": "stdout",
     "output_type": "stream",
     "text": [
      " 1. Djokovic N.         : 41.89 ± 0.97 [20/07/2004 - 11/09/2016]\n",
      " 2. Murray A.           : 38.65 ± 0.89 [19/04/2005 -  7/09/2016]\n",
      " 3. Federer R.          : 38.61 ± 0.89 [ 3/01/2000 -  8/07/2016]\n",
      " 4. Nadal R.            : 37.05 ± 0.88 [15/04/2003 -  4/09/2016]\n",
      " 5. Nishikori K.        : 35.91 ± 0.85 [17/07/2007 -  9/09/2016]\n",
      " 6. Wawrinka S.         : 35.62 ± 0.84 [ 7/07/2003 - 25/09/2016]\n",
      " 7. Soderling R.        : 35.43 ± 0.84 [22/10/2001 - 17/07/2011]\n",
      " 8. Del Potro J.M.      : 35.34 ± 0.84 [30/01/2006 -  8/09/2016]\n",
      " 9. Raonic M.           : 35.24 ± 0.84 [12/08/2009 - 22/09/2016]\n",
      "10. Berdych T.          : 35.21 ± 0.85 [25/08/2003 - 24/09/2016]\n",
      "11. Agassi A.           : 35.09 ± 0.85 [17/01/2000 -  3/09/2006]\n",
      "12. Sampras P.          : 34.81 ± 0.89 [17/01/2000 - 26/08/2002]\n",
      "13. Tsonga J.W.         : 34.62 ± 0.84 [15/09/2004 -  7/09/2016]\n",
      "14. Rafter P.           : 34.92 ± 0.95 [28/02/2000 - 12/11/2001]\n",
      "15. Roddick A.          : 34.16 ± 0.84 [28/02/2000 -  5/09/2012]\n",
      "16. Ferrer D.           : 34.09 ± 0.84 [ 8/04/2002 -  3/09/2016]\n",
      "17. Monfils G.          : 34.02 ± 0.83 [13/10/2004 -  9/09/2016]\n",
      "18. Gasquet R.          : 33.87 ± 0.83 [15/04/2002 - 29/08/2016]\n",
      "19. Cilic M.            : 33.86 ± 0.83 [25/07/2005 -  2/09/2016]\n",
      "20. Thiem D.            : 33.23 ± 0.83 [ 1/08/2011 - 25/09/2016]\n"
     ]
    }
   ],
   "source": [
    "# Top 20 players and their skills\n",
    "leaderboard = sorted(players.items(), key=lambda player: env.expose(player[1]), reverse=True)\n",
    "for i in range(20):\n",
    "    player = leaderboard[i]\n",
    "    print('%2i. %-20s: %.2f ± %.2f [%10s - %10s]' % (\n",
    "        i+1, player[0], player[1].mu, player[1].sigma,\n",
    "        first_game[player[0]], last_game[player[0]]))"
   ]
  },
  {
   "cell_type": "code",
   "execution_count": 63,
   "metadata": {},
   "outputs": [
    {
     "name": "stdout",
     "output_type": "stream",
     "text": [
      "Federer R.\n",
      "mu: 38.61408139627276\n",
      "sigma: 0.8935283841904839\n"
     ]
    }
   ],
   "source": [
    "# This code shows how to access the parameters of the posterior Normal\n",
    "# distribution over the skill of a particular player.\n",
    "\n",
    "player_name = 'Federer R.'\n",
    "player = players[player_name]\n",
    "print(player_name)\n",
    "print('mu:', player.mu)\n",
    "print('sigma:', player.sigma)"
   ]
  },
  {
   "cell_type": "code",
   "execution_count": 90,
   "metadata": {},
   "outputs": [],
   "source": [
    "import scipy.stats as sts\n",
    "\n",
    "def prob_win(player1, player2):\n",
    "    one = np.random.normal(player1.mu, player1.sigma, 100000)\n",
    "    two = np.random.normal(player2.mu, player2.sigma, 100000)\n",
    "    counter = 0\n",
    "    for i in range(len(one)):\n",
    "        if one[i] > two[i]:\n",
    "            counter += 1\n",
    "    return counter/100000"
   ]
  },
  {
   "cell_type": "code",
   "execution_count": 92,
   "metadata": {},
   "outputs": [
    {
     "name": "stdout",
     "output_type": "stream",
     "text": [
      "The probability that Federer R. will win against Nadal R. is 0.894\n"
     ]
    }
   ],
   "source": [
    "player_names = ['Federer R.', 'Nadal R.']\n",
    "p = prob_win(players[player_names[0]], players[player_names[1]])\n",
    "print(f'The probability that {player_names[0]} will win against {player_names[1]} is {p:.3f}')"
   ]
  },
  {
   "cell_type": "code",
   "execution_count": null,
   "metadata": {},
   "outputs": [],
   "source": []
  }
 ],
 "metadata": {
  "kernelspec": {
   "display_name": "Python 3",
   "language": "python",
   "name": "python3"
  },
  "language_info": {
   "codemirror_mode": {
    "name": "ipython",
    "version": 3
   },
   "file_extension": ".py",
   "mimetype": "text/x-python",
   "name": "python",
   "nbconvert_exporter": "python",
   "pygments_lexer": "ipython3",
   "version": "3.7.6"
  }
 },
 "nbformat": 4,
 "nbformat_minor": 4
}
