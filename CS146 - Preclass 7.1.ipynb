{
 "cells": [
  {
   "cell_type": "code",
   "execution_count": 20,
   "metadata": {},
   "outputs": [],
   "source": [
    "import numpy as np\n",
    "import matplotlib.pyplot as plt\n",
    "from scipy import stats\n"
   ]
  },
  {
   "cell_type": "code",
   "execution_count": 43,
   "metadata": {},
   "outputs": [
    {
     "data": {
      "image/png": "[encoded data removed]",
      "text/plain": [
       "<Figure size 432x288 with 1 Axes>"
      ]
     },
     "metadata": {},
     "output_type": "display_data"
    }
   ],
   "source": [
    "'''Using the normal approximation to the binomial distribution, confirm that the 95%\n",
    "confidence interval for the sampling error for sample size 1000 and percentage outcome\n",
    "10% is 2% (rounded to the nearest integer). Motivate why it is appropriate to use the\n",
    "binomial distribution here.'''\n",
    "\n",
    "from __future__ import print_function, division\n",
    "import numpy as np\n",
    "from scipy.stats import norm, binom\n",
    "import matplotlib.pyplot as plt\n",
    "\n",
    "#binomial distribution with sample size 1000 and percentage outcome 10%\n",
    "n =1000\n",
    "p =0.1\n",
    "\n",
    "x = np.arange(stats.binom.ppf(0, n, p),\n",
    "               stats.binom.ppf(1, n, p))\n",
    "\n",
    "plt.plot(x, stats.binom.pmf(x, n, p), 'o', ms=2, label='binom pmf')\n",
    "#using normal distribution to approximate the binomial\n",
    "plt.show()"
   ]
  },
  {
   "cell_type": "code",
   "execution_count": 44,
   "metadata": {},
   "outputs": [
    {
     "data": {
      "image/png": "[encoded data removed]",
      "text/plain": [
       "<Figure size 1080x288 with 1 Axes>"
      ]
     },
     "metadata": {},
     "output_type": "display_data"
    }
   ],
   "source": [
    "#https://www.youtube.com/watch?v=CCqWkJ_pqNU\n",
    "\n",
    "#using normal distribution to approximate the binomial\n",
    "\n",
    "mu = n*p\n",
    "var = n*p*(1-p)\n",
    "sigma = np.sqrt(var)\n",
    "\n",
    "norm_dist = stats.norm(loc=mu, scale=sigma)\n",
    "sample_norm = np.random.normal(mu,sigma,n)\n",
    "\n",
    "2"
   ]
  },
  {
   "cell_type": "code",
   "execution_count": 34,
   "metadata": {},
   "outputs": [
    {
     "name": "stdout",
     "output_type": "stream",
     "text": [
      "1.81331999629 -1.88623311559\n"
     ]
    }
   ],
   "source": [
    "upperbound = (np.percentile(sample_norm, 97.5)-mu)/n*100\n",
    "lowerbound = (np.percentile(sample_norm, 2.5)-mu)/n*100\n",
    "print(upperbound,lowerbound)"
   ]
  },
  {
   "cell_type": "code",
   "execution_count": 68,
   "metadata": {},
   "outputs": [],
   "source": [
    "'''Write a Python function for calculating the 95% confidence interval given any sample\n",
    "size and any percentage outcome. Use your function to calculate all the values in the\n",
    "Total Survey Error table rounded to the nearest integer. For which entries does your\n",
    "margin of error differ from the value in the table?'''\n",
    "\n",
    "def norm_approx_binom(n,p):\n",
    "    mu = n*p\n",
    "    var = n*p*(1-p)\n",
    "    sigma = np.sqrt(var)\n",
    "    sample_norm = np.random.normal(mu,sigma,10000)\n",
    "    upperbound = (np.percentile(sample_norm, 97.5)-mu)/n*100\n",
    "    lowerbound = (np.percentile(sample_norm, 2.5)-mu)/n*100\n",
    "    \n",
    "    stats.normal.ppf()\n",
    "    return n,p,np.round(upperbound)"
   ]
  },
  {
   "cell_type": "code",
   "execution_count": 57,
   "metadata": {},
   "outputs": [
    {
     "name": "stdout",
     "output_type": "stream",
     "text": [
      "(100, 0.1, 6.0)\n",
      "(100, 0.2, 8.0)\n",
      "(100, 0.3, 9.0)\n",
      "(100, 0.4, 9.0)\n",
      "(100, 0.5, 10.0)\n",
      "(100, 0.6, 9.0)\n",
      "(100, 0.7, 9.0)\n",
      "(100, 0.8, 8.0)\n",
      "(100, 0.9, 6.0)\n",
      "_____________________\n",
      "(250, 0.1, 4.0)\n",
      "(250, 0.2, 5.0)\n",
      "(250, 0.3, 6.0)\n",
      "(250, 0.4, 6.0)\n",
      "(250, 0.5, 6.0)\n",
      "(250, 0.6, 6.0)\n",
      "(250, 0.7, 6.0)\n",
      "(250, 0.8, 5.0)\n",
      "(250, 0.9, 4.0)\n",
      "_____________________\n",
      "(500, 0.1, 3.0)\n",
      "(500, 0.2, 4.0)\n",
      "(500, 0.3, 4.0)\n",
      "(500, 0.4, 4.0)\n",
      "(500, 0.5, 4.0)\n",
      "(500, 0.6, 4.0)\n",
      "(500, 0.7, 4.0)\n",
      "(500, 0.8, 3.0)\n",
      "(500, 0.9, 3.0)\n",
      "_____________________\n",
      "(750, 0.1, 2.0)\n",
      "(750, 0.2, 3.0)\n",
      "(750, 0.3, 3.0)\n",
      "(750, 0.4, 3.0)\n",
      "(750, 0.5, 4.0)\n",
      "(750, 0.6, 3.0)\n",
      "(750, 0.7, 3.0)\n",
      "(750, 0.8, 3.0)\n",
      "(750, 0.9, 2.0)\n",
      "_____________________\n",
      "(1000, 0.1, 2.0)\n",
      "(1000, 0.2, 2.0)\n",
      "(1000, 0.3, 3.0)\n",
      "(1000, 0.4, 3.0)\n",
      "(1000, 0.5, 3.0)\n",
      "(1000, 0.6, 3.0)\n",
      "(1000, 0.7, 3.0)\n",
      "(1000, 0.8, 2.0)\n",
      "(1000, 0.9, 2.0)\n",
      "_____________________\n"
     ]
    }
   ],
   "source": [
    "sample_size = [100,250,500,750,1000]\n",
    "percentages = [0.1,0.2,0.3,0.4,0.5,0.6,0.7,0.8,0.9]\n",
    "\n",
    "for n in sample_size:\n",
    "    for p in percentages:\n",
    "        print(norm_approx_binom(n,p))\n",
    "    print(\"_____________________\")"
   ]
  },
  {
   "cell_type": "code",
   "execution_count": 67,
   "metadata": {},
   "outputs": [
    {
     "data": {
      "text/plain": [
       "0.58518543248420429"
      ]
     },
     "execution_count": 67,
     "metadata": {},
     "output_type": "execute_result"
    }
   ],
   "source": [
    "n = 100\n",
    "p = 0.1\n",
    "mu = n*p\n",
    "var = n*p*(1-p)\n",
    "sigma = np.sqrt(var)\n",
    "sample_norm = np.random.normal(mu,sigma,10000)\n",
    "(np.percentile(sample_norm, 97.5)-mu)/ mu"
   ]
  },
  {
   "cell_type": "code",
   "execution_count": null,
   "metadata": {
    "collapsed": true
   },
   "outputs": [],
   "source": []
  }
 ],
 "metadata": {
  "kernelspec": {
   "display_name": "Python 3",
   "language": "python",
   "name": "python3"
  },
  "language_info": {
   "codemirror_mode": {
    "name": "ipython",
    "version": 3
   },
   "file_extension": ".py",
   "mimetype": "text/x-python",
   "name": "python",
   "nbconvert_exporter": "python",
   "pygments_lexer": "ipython3",
   "version": "3.6.3"
  }
 },
 "nbformat": 4,
 "nbformat_minor": 2
}
