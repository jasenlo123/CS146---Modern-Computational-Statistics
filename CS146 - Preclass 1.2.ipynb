{
 "cells": [
  {
   "cell_type": "markdown",
   "metadata": {},
   "source": [
    "## 1. Create your own probability distribution. Pick the support of your distribution and define any function you want over that domain. Will your pdf have one mode or multiple modes? Will it be skewed or symmetric? Where will most of the probability mass be? What are the parameters of your distribution? Remember, any piecewise continuous, non-negative function that integrates to 1 over the support is a valid probability distribution. Any normal distribution is a probability distribution that fits the constraints of a continuous, non-negtaive function that integrates to 1 over the support. The distribution is below:\n",
    "\n",
    "Characteristics:\n",
    "- Normal Distribution\n",
    "- Perfectly Symmetric\n",
    "- Unimoval\n",
    "- Support of (-10,10)\n",
    "- Mean of 0, Variance of 5"
   ]
  },
  {
   "cell_type": "code",
   "execution_count": 167,
   "metadata": {},
   "outputs": [
    {
     "data": {
      "image/png": "[encoded data removed]",
      "text/plain": [
       "<matplotlib.figure.Figure at 0x1a19f30f28>"
      ]
     },
     "metadata": {},
     "output_type": "display_data"
    }
   ],
   "source": [
    "from scipy.stats import norm\n",
    "import numpy as np\n",
    "import matplotlib.pyplot as plt\n",
    "import math as m\n",
    "\n",
    "x = np.linspace(-10,10) #domain = (-10,10)\n",
    "plt.plot(x, norm.pdf(x,0,5))  #mean = 0, variance = 5\n",
    "plt.xlim(-15,15)\n",
    "plt.title('PDF')\n",
    "plt.show()"
   ]
  },
  {
   "cell_type": "markdown",
   "metadata": {},
   "source": [
    "## 2. Write Python functions for the pdf, cdf, and qf of your distribution. For the distributions defined in the scipy.stats module, these are the pdf, cdf, and ppf functions. For example, for the normal distribution, norm.pdf() is the probability density function, norm.cdf() is the cumulative distribution function, and norm.ppf() is the quantile function. "
   ]
  },
  {
   "cell_type": "code",
   "execution_count": 168,
   "metadata": {},
   "outputs": [
    {
     "data": {
      "text/plain": [
       "array([ 0.01079819,  0.01267095,  0.01476976,  0.01710186,  0.01967067,\n",
       "        0.02247507,  0.02550873,  0.02875957,  0.03220935,  0.03583335,\n",
       "        0.03960033,  0.04347264,  0.04740665,  0.0513533 ,  0.05525904,\n",
       "        0.05906691,  0.06271783,  0.06615212,  0.06931104,  0.07213847,\n",
       "        0.07458258,  0.07659735,  0.07814407,  0.07919253,  0.07972202,\n",
       "        0.07972202,  0.07919253,  0.07814407,  0.07659735,  0.07458258,\n",
       "        0.07213847,  0.06931104,  0.06615212,  0.06271783,  0.05906691,\n",
       "        0.05525904,  0.0513533 ,  0.04740665,  0.04347264,  0.03960033,\n",
       "        0.03583335,  0.03220935,  0.02875957,  0.02550873,  0.02247507,\n",
       "        0.01967067,  0.01710186,  0.01476976,  0.01267095,  0.01079819])"
      ]
     },
     "execution_count": 168,
     "metadata": {},
     "output_type": "execute_result"
    }
   ],
   "source": [
    "#TRUE PDF VALUES\n",
    "norm.pdf(x,0,5)#mean = 0, variance = 5"
   ]
  },
  {
   "cell_type": "code",
   "execution_count": 169,
   "metadata": {
    "collapsed": true
   },
   "outputs": [],
   "source": [
    "#norm.pdf(x) = exp(-x**2/2)/sqrt(2*pi)\n",
    "def jasen_pdf(x,mean,var):\n",
    "    pdf = []\n",
    "    for i in x:\n",
    "        i = i.item()\n",
    "        a = m.exp(-((i-mean)/var)**2/2)\n",
    "        b = m.sqrt(2*m.pi)*var\n",
    "        i = a/b\n",
    "        pdf.append(i)\n",
    "    print(pdf)"
   ]
  },
  {
   "cell_type": "code",
   "execution_count": 170,
   "metadata": {},
   "outputs": [
    {
     "name": "stdout",
     "output_type": "stream",
     "text": [
      "[0.010798193302637612, 0.012670952821217584, 0.014769757315434685, 0.0171018602904126, 0.01967067479221622, 0.0224750709767295, 0.025508727518950666, 0.02875957254977366, 0.032209350572866315, 0.03583335062974065, 0.03960032765241709, 0.04347264340055755, 0.04740664569997617, 0.051353295116565965, 0.05525903710690016, 0.059066905622715965, 0.06271783176920664, 0.06615211916532605, 0.06931103689891623, 0.07213847215771092, 0.07458257841529248, 0.07659735198884245, 0.07814407020944256, 0.0791925284835819, 0.07972202106657408, 0.07972202106657408, 0.0791925284835819, 0.07814407020944256, 0.07659735198884245, 0.07458257841529248, 0.07213847215771091, 0.06931103689891623, 0.06615211916532605, 0.06271783176920664, 0.059066905622715965, 0.05525903710690015, 0.051353295116565965, 0.04740664569997617, 0.04347264340055754, 0.039600327652417076, 0.03583335062974065, 0.032209350572866315, 0.02875957254977366, 0.025508727518950666, 0.022475070976729482, 0.019670674792216212, 0.017101860290412593, 0.014769757315434685, 0.012670952821217584, 0.010798193302637612]\n"
     ]
    }
   ],
   "source": [
    "#corresponds to true pdf values\n",
    "jasen_pdf(x,0,5)"
   ]
  },
  {
   "cell_type": "code",
   "execution_count": 171,
   "metadata": {},
   "outputs": [
    {
     "data": {
      "text/plain": [
       "array([ 0.02275013,  0.02753222,  0.03312454,  0.03962093,  0.04711746,\n",
       "        0.0557107 ,  0.06549568,  0.07656373,  0.08899998,  0.10288081,\n",
       "        0.11827117,  0.13522196,  0.15376746,  0.17392301,  0.19568297,\n",
       "        0.21901912,  0.2438795 ,  0.27018787,  0.29784375,  0.32672319,\n",
       "        0.35668012,  0.38754848,  0.41914485,  0.45127173,  0.48372116,\n",
       "        0.51627884,  0.54872827,  0.58085515,  0.61245152,  0.64331988,\n",
       "        0.67327681,  0.70215625,  0.72981213,  0.7561205 ,  0.78098088,\n",
       "        0.80431703,  0.82607699,  0.84623254,  0.86477804,  0.88172883,\n",
       "        0.89711919,  0.91100002,  0.92343627,  0.93450432,  0.9442893 ,\n",
       "        0.95288254,  0.96037907,  0.96687546,  0.97246778,  0.97724987])"
      ]
     },
     "execution_count": 171,
     "metadata": {},
     "output_type": "execute_result"
    }
   ],
   "source": [
    "#TRUE CDF VALUES\n",
    "norm.cdf(x,0,5)  #mean = 0, variance = 5"
   ]
  },
  {
   "cell_type": "code",
   "execution_count": 187,
   "metadata": {
    "collapsed": true
   },
   "outputs": [],
   "source": [
    "def jasen_cdf(x,mean,var):\n",
    "    cdf = []\n",
    "    for i in x:\n",
    "        i = i.item()\n",
    "        i = 0.5*(1 + m.erf((i-mean)/(var*m.sqrt(2))))\n",
    "        cdf.append(i)\n",
    "    return cdf"
   ]
  },
  {
   "cell_type": "code",
   "execution_count": 190,
   "metadata": {},
   "outputs": [
    {
     "data": {
      "text/plain": [
       "[0.022750131948179264,\n",
       " 0.02753222419374407,\n",
       " 0.03312453545559724,\n",
       " 0.03962092765878095,\n",
       " 0.04711746401493233,\n",
       " 0.05571069688873215,\n",
       " 0.06549567876370915,\n",
       " 0.07656372550983492,\n",
       " 0.08899997593962483,\n",
       " 0.1028808063466638,\n",
       " 0.11827117251125813,\n",
       " 0.13522196363824512,\n",
       " 0.15376746196860214,\n",
       " 0.17392300754936751,\n",
       " 0.19568296915377603,\n",
       " 0.21901911910445693,\n",
       " 0.24387950150143012,\n",
       " 0.2701878701144177,\n",
       " 0.29784375429649024,\n",
       " 0.32672318935587225,\n",
       " 0.3566801228178473,\n",
       " 0.38754848109799234,\n",
       " 0.41914485365059173,\n",
       " 0.4512717251089049,\n",
       " 0.48372116175788865,\n",
       " 0.5162788382421113,\n",
       " 0.5487282748910951,\n",
       " 0.5808551463494084,\n",
       " 0.6124515189020077,\n",
       " 0.6433198771821527,\n",
       " 0.6732768106441278,\n",
       " 0.7021562457035098,\n",
       " 0.7298121298855823,\n",
       " 0.7561204984985699,\n",
       " 0.7809808808955431,\n",
       " 0.804317030846224,\n",
       " 0.8260769924506325,\n",
       " 0.8462325380313979,\n",
       " 0.864778036361755,\n",
       " 0.8817288274887419,\n",
       " 0.8971191936533363,\n",
       " 0.9110000240603752,\n",
       " 0.9234362744901651,\n",
       " 0.9345043212362909,\n",
       " 0.9442893031112679,\n",
       " 0.9528825359850677,\n",
       " 0.9603790723412189,\n",
       " 0.9668754645444028,\n",
       " 0.9724677758062559,\n",
       " 0.9772498680518207]"
      ]
     },
     "execution_count": 190,
     "metadata": {},
     "output_type": "execute_result"
    }
   ],
   "source": [
    "#corresponds to true cdf values\n",
    "cdf = jasen_cdf(x,0,5)\n",
    "#jasen_cdf(x,0,5)\n",
    "cdf"
   ]
  },
  {
   "cell_type": "code",
   "execution_count": 157,
   "metadata": {},
   "outputs": [
    {
     "data": {
      "text/plain": [
       "array([-10.        ,  -9.59183673,  -9.18367347,  -8.7755102 ,\n",
       "        -8.36734694,  -7.95918367,  -7.55102041,  -7.14285714,\n",
       "        -6.73469388,  -6.32653061,  -5.91836735,  -5.51020408,\n",
       "        -5.10204082,  -4.69387755,  -4.28571429,  -3.87755102,\n",
       "        -3.46938776,  -3.06122449,  -2.65306122,  -2.24489796,\n",
       "        -1.83673469,  -1.42857143,  -1.02040816,  -0.6122449 ,\n",
       "        -0.20408163,   0.20408163,   0.6122449 ,   1.02040816,\n",
       "         1.42857143,   1.83673469,   2.24489796,   2.65306122,\n",
       "         3.06122449,   3.46938776,   3.87755102,   4.28571429,\n",
       "         4.69387755,   5.10204082,   5.51020408,   5.91836735,\n",
       "         6.32653061,   6.73469388,   7.14285714,   7.55102041,\n",
       "         7.95918367,   8.36734694,   8.7755102 ,   9.18367347,\n",
       "         9.59183673,  10.        ])"
      ]
     },
     "execution_count": 157,
     "metadata": {},
     "output_type": "execute_result"
    }
   ],
   "source": [
    "#TRUE PPF VALUES\n",
    "norm.ppf(norm.cdf(x,0,5),0,5) #mean = 0, variance = 5"
   ]
  },
  {
   "cell_type": "code",
   "execution_count": 191,
   "metadata": {
    "collapsed": true
   },
   "outputs": [],
   "source": [
    "#inverse error function\n",
    "from scipy.special import erfinv"
   ]
  },
  {
   "cell_type": "code",
   "execution_count": 216,
   "metadata": {
    "collapsed": true
   },
   "outputs": [],
   "source": [
    "def jasen_ppf(cdf,mean,var):\n",
    "    ppf = []\n",
    "    for i in cdf:\n",
    "        i = mean + var*m.sqrt(2)*erfinv(2*i-1)\n",
    "        ppf.append(i)\n",
    "    return(ppf)"
   ]
  },
  {
   "cell_type": "code",
   "execution_count": 217,
   "metadata": {},
   "outputs": [
    {
     "data": {
      "text/plain": [
       "[-9.9999999999999947,\n",
       " -9.5918367346938815,\n",
       " -9.183673469387756,\n",
       " -8.7755102040816322,\n",
       " -8.3673469387755084,\n",
       " -7.9591836734693855,\n",
       " -7.5510204081632599,\n",
       " -7.1428571428571388,\n",
       " -6.7346938775510212,\n",
       " -6.3265306122448992,\n",
       " -5.9183673469387728,\n",
       " -5.5102040816326516,\n",
       " -5.1020408163265296,\n",
       " -4.6938775510204067,\n",
       " -4.2857142857142847,\n",
       " -3.8775510204081636,\n",
       " -3.4693877551020407,\n",
       " -3.0612244897959191,\n",
       " -2.6530612244897962,\n",
       " -2.2448979591836729,\n",
       " -1.8367346938775508,\n",
       " -1.4285714285714288,\n",
       " -1.0204081632653057,\n",
       " -0.61224489795918291,\n",
       " -0.20408163265306103,\n",
       " 0.20408163265306034,\n",
       " 0.61224489795918291,\n",
       " 1.020408163265307,\n",
       " 1.4285714285714288,\n",
       " 1.83673469387755,\n",
       " 2.2448979591836742,\n",
       " 2.6530612244897962,\n",
       " 3.0612244897959191,\n",
       " 3.4693877551020407,\n",
       " 3.8775510204081636,\n",
       " 4.2857142857142847,\n",
       " 4.6938775510204067,\n",
       " 5.1020408163265296,\n",
       " 5.5102040816326543,\n",
       " 5.9183673469387754,\n",
       " 6.3265306122449028,\n",
       " 6.7346938775510212,\n",
       " 7.1428571428571388,\n",
       " 7.5510204081632626,\n",
       " 7.9591836734693855,\n",
       " 8.3673469387755084,\n",
       " 8.7755102040816233,\n",
       " 9.183673469387756,\n",
       " 9.5918367346938762,\n",
       " 9.9999999999999893]"
      ]
     },
     "execution_count": 217,
     "metadata": {},
     "output_type": "execute_result"
    }
   ],
   "source": [
    "#corresponds to true ppf values\n",
    "jasen_ppf(cdf,0,5)"
   ]
  },
  {
   "cell_type": "markdown",
   "metadata": {},
   "source": [
    "## 3. (Optional) Write a Python function for generating random samples from your distribution. For example, norm.rvs() is used to generate samples from the normal distribution."
   ]
  },
  {
   "cell_type": "code",
   "execution_count": 230,
   "metadata": {
    "collapsed": true
   },
   "outputs": [],
   "source": [
    "import random\n",
    "\n",
    "def jasen_random_sampler(size,mean,var):\n",
    "    sample = []\n",
    "    for i in range(size):\n",
    "        sample.append(random.uniform(0, 1))\n",
    "    sample = jasen_ppf(sample,mean,var)    \n",
    "    return(sample)"
   ]
  },
  {
   "cell_type": "code",
   "execution_count": 235,
   "metadata": {},
   "outputs": [
    {
     "name": "stdout",
     "output_type": "stream",
     "text": [
      "[8.9832721966536528, 1.6749667258698875, 0.5915065286674579, -2.1974344032664366, -2.0509616696205883]\n",
      "0.670553427541\n"
     ]
    }
   ],
   "source": [
    "#five random samples from my sample generator\n",
    "print(jasen_random_sampler(5, 0 , 5))\n",
    "\n",
    "#20 samples generate mean that is close to the true mean of 0\n",
    "print(np.mean(jasen_random_sampler(20, 0 , 5)))"
   ]
  }
 ],
 "metadata": {
  "kernelspec": {
   "display_name": "Python 3",
   "language": "python",
   "name": "python3"
  },
  "language_info": {
   "codemirror_mode": {
    "name": "ipython",
    "version": 3
   },
   "file_extension": ".py",
   "mimetype": "text/x-python",
   "name": "python",
   "nbconvert_exporter": "python",
   "pygments_lexer": "ipython3",
   "version": "3.6.3"
  }
 },
 "nbformat": 4,
 "nbformat_minor": 2
}
