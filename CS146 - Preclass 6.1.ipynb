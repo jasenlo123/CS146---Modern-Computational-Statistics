{
 "cells": [
  {
   "cell_type": "code",
   "execution_count": 74,
   "metadata": {
    "collapsed": true
   },
   "outputs": [],
   "source": [
    "import numpy as np\n",
    "import pandas as pd\n",
    "from scipy import stats\n",
    "import matplotlib.pyplot as plt"
   ]
  },
  {
   "cell_type": "code",
   "execution_count": 199,
   "metadata": {
    "collapsed": true
   },
   "outputs": [],
   "source": [
    "df = pd.read_csv('socialmobility.csv')"
   ]
  },
  {
   "cell_type": "code",
   "execution_count": 200,
   "metadata": {},
   "outputs": [
    {
     "data": {
      "text/html": [
       "<div>\n",
       "<style scoped>\n",
       "    .dataframe tbody tr th:only-of-type {\n",
       "        vertical-align: middle;\n",
       "    }\n",
       "\n",
       "    .dataframe tbody tr th {\n",
       "        vertical-align: top;\n",
       "    }\n",
       "\n",
       "    .dataframe thead th {\n",
       "        text-align: right;\n",
       "    }\n",
       "</style>\n",
       "<table border=\"1\" class=\"dataframe\">\n",
       "  <thead>\n",
       "    <tr style=\"text-align: right;\">\n",
       "      <th></th>\n",
       "      <th>father</th>\n",
       "      <th>son</th>\n",
       "      <th>count</th>\n",
       "    </tr>\n",
       "  </thead>\n",
       "  <tbody>\n",
       "    <tr>\n",
       "      <th>0</th>\n",
       "      <td>farm</td>\n",
       "      <td>farm</td>\n",
       "      <td>703</td>\n",
       "    </tr>\n",
       "    <tr>\n",
       "      <th>1</th>\n",
       "      <td>farm</td>\n",
       "      <td>unskilled</td>\n",
       "      <td>1478</td>\n",
       "    </tr>\n",
       "    <tr>\n",
       "      <th>2</th>\n",
       "      <td>farm</td>\n",
       "      <td>skilled</td>\n",
       "      <td>1430</td>\n",
       "    </tr>\n",
       "    <tr>\n",
       "      <th>3</th>\n",
       "      <td>farm</td>\n",
       "      <td>professional</td>\n",
       "      <td>1109</td>\n",
       "    </tr>\n",
       "    <tr>\n",
       "      <th>4</th>\n",
       "      <td>unskilled</td>\n",
       "      <td>farm</td>\n",
       "      <td>58</td>\n",
       "    </tr>\n",
       "    <tr>\n",
       "      <th>5</th>\n",
       "      <td>unskilled</td>\n",
       "      <td>unskilled</td>\n",
       "      <td>1756</td>\n",
       "    </tr>\n",
       "    <tr>\n",
       "      <th>6</th>\n",
       "      <td>unskilled</td>\n",
       "      <td>skilled</td>\n",
       "      <td>1630</td>\n",
       "    </tr>\n",
       "    <tr>\n",
       "      <th>7</th>\n",
       "      <td>unskilled</td>\n",
       "      <td>professional</td>\n",
       "      <td>1568</td>\n",
       "    </tr>\n",
       "    <tr>\n",
       "      <th>8</th>\n",
       "      <td>skilled</td>\n",
       "      <td>farm</td>\n",
       "      <td>63</td>\n",
       "    </tr>\n",
       "    <tr>\n",
       "      <th>9</th>\n",
       "      <td>skilled</td>\n",
       "      <td>unskilled</td>\n",
       "      <td>1453</td>\n",
       "    </tr>\n",
       "  </tbody>\n",
       "</table>\n",
       "</div>"
      ],
      "text/plain": [
       "      father           son  count\n",
       "0       farm          farm    703\n",
       "1       farm     unskilled   1478\n",
       "2       farm       skilled   1430\n",
       "3       farm  professional   1109\n",
       "4  unskilled          farm     58\n",
       "5  unskilled     unskilled   1756\n",
       "6  unskilled       skilled   1630\n",
       "7  unskilled  professional   1568\n",
       "8    skilled          farm     63\n",
       "9    skilled     unskilled   1453"
      ]
     },
     "execution_count": 200,
     "metadata": {},
     "output_type": "execute_result"
    }
   ],
   "source": [
    "##df = pd.read_fwf('mobility.txt')\n",
    "#df = df.drop(['Unnamed: 0'], axis=1)\n",
    "df[:10]"
   ]
  },
  {
   "cell_type": "code",
   "execution_count": 66,
   "metadata": {},
   "outputs": [
    {
     "name": "stdout",
     "output_type": "stream",
     "text": [
      "unskilled       16\n",
      "skilled         16\n",
      "farm            16\n",
      "professional    15\n",
      "Name: fatherOccup, dtype: int64\n",
      "\n",
      "unskilled       16\n",
      "professional    16\n",
      "skilled         16\n",
      "farm            15\n",
      "Name: sonOccup, dtype: int64\n"
     ]
    }
   ],
   "source": [
    "print(df['fatherOccup'].value_counts())\n",
    "print(\"\")\n",
    "print(df['sonOccup'].value_counts())\n"
   ]
  },
  {
   "cell_type": "code",
   "execution_count": 175,
   "metadata": {},
   "outputs": [],
   "source": [
    "'''\n",
    "2. Choose a Dirichlet prior with a uniform distribution \n",
    "over the probability vector parameter of the multinomial.\n",
    "'''\n",
    "\n",
    "# father, son\n",
    "# index: 0=farm, 1=unskilled, 2=skilled, 3=professional.\n",
    "data_f = [16,16,16,15]\n",
    "data_s = [15,16,16,16]\n",
    "\n",
    "#adding uniform dir prior\n",
    "posterior_f = [x+1 for x in data_f]\n",
    "posterior_s = [x+1 for x in data_s]"
   ]
  },
  {
   "cell_type": "code",
   "execution_count": 164,
   "metadata": {},
   "outputs": [
    {
     "data": {
      "image/png": "[encoded data removed]",
      "text/plain": [
       "<Figure size 432x288 with 1 Axes>"
      ]
     },
     "metadata": {},
     "output_type": "display_data"
    }
   ],
   "source": [
    "'''\n",
    " Write Python code to compute the posterior Dirichlet distribution, given your prior\n",
    "hyperparameters and the data. Do not use Stan, but rather implement the update equations\n",
    "from prior to posterior manually.\n",
    "'''\n",
    "samples_f = stats.dirichlet.rvs(posterior_f, size=1000).transpose()\n",
    "samples_s = stats.dirichlet.rvs(posterior_s, size=1000).transpose()\n",
    "\n",
    "for i in range(3):\n",
    "    plt.scatter(np.full(1000, i-0.2),samples_f[i], alpha=0.1, color = \"b\")\n",
    "    plt.scatter(np.full(1000, i+0.2),samples_s[i], alpha=0.1, color = \"r\")\n",
    "plt.scatter(np.full(1000, 3-0.2),samples_f[3], alpha=0.1, color = \"b\", label = \"father\")\n",
    "plt.scatter(np.full(1000, 3+0.2),samples_s[3], alpha=0.1, color = \"r\", label = \"son\")\n",
    "\n",
    "plt.ylim([0,1])\n",
    "plt.xticks([0,1,2,3],[\"farm\",\"unskilled\",\"skilled\",\"pro\"])\n",
    "plt.legend()\n",
    "plt.title(\"Posterior Dirichlet distribution\")\n",
    "plt.show()"
   ]
  },
  {
   "cell_type": "code",
   "execution_count": 197,
   "metadata": {},
   "outputs": [
    {
     "name": "stdout",
     "output_type": "stream",
     "text": [
      "0.255753189026\n",
      "0.25487034284\n"
     ]
    },
    {
     "data": {
      "text/plain": [
       "array([ 0.03294575,  0.1040623 ])"
      ]
     },
     "execution_count": 197,
     "metadata": {},
     "output_type": "execute_result"
    }
   ],
   "source": [
    "'''What is the posterior 95% probability interval over the probability that a son will\n",
    "become a skilled laborer if his father was an unskilled laborer?'''\n",
    "\n",
    "#skilled son\n",
    "print(np.mean(samples_s[2]))\n",
    "skilled_s = samples_s[2]\n",
    "\n",
    "#unskilled father \n",
    "print(np.mean(samples_f[1]))\n",
    "unskilled_f = samples_f[1]\n",
    "\n",
    "np.percentile(skilled_s * unskilled_f, [2.5, 97.5])\n"
   ]
  },
  {
   "cell_type": "code",
   "execution_count": 198,
   "metadata": {},
   "outputs": [
    {
     "name": "stdout",
     "output_type": "stream",
     "text": [
      "0.255058140082\n",
      "0.252682536768\n"
     ]
    },
    {
     "data": {
      "text/plain": [
       "array([ 0.03359854,  0.10801033])"
      ]
     },
     "execution_count": 198,
     "metadata": {},
     "output_type": "execute_result"
    }
   ],
   "source": [
    "'''b. What is the posterior 95% probability interval over the probability that a father works\n",
    "on a farm if his son works as a professional?'''\n",
    "\n",
    "#farm father\n",
    "print(np.mean(samples_f[0]))\n",
    "farm_f = samples_f[0]\n",
    "\n",
    "#prof son\n",
    "print(np.mean(samples_s[3]))\n",
    "prof_s = samples_s[3]\n",
    "\n",
    "np.percentile(farm_f * prof_s, [2.5, 97.5])\n"
   ]
  },
  {
   "cell_type": "code",
   "execution_count": 201,
   "metadata": {
    "collapsed": true
   },
   "outputs": [],
   "source": [
    "import numpy as np\n",
    "import scipy.stats as sts\n",
    "import matplotlib.pyplot as plt\n",
    "import pystan"
   ]
  },
  {
   "cell_type": "code",
   "execution_count": 202,
   "metadata": {
    "collapsed": true
   },
   "outputs": [],
   "source": [
    "# Code the type of work with integers\n",
    "farm = 0\n",
    "unskilled = 1\n",
    "skilled = 2\n",
    "professional = 3\n",
    "\n",
    "# Matrix of counts such that, for example, counts[farm][skilled] is the\n",
    "# number of times a father does farm work and a son skilled work.\n",
    "counts = [\n",
    "    [703, 1478, 1430, 1109],\n",
    "    [58, 1756, 1630, 1568],\n",
    "    [63, 1453, 2068, 2483],\n",
    "    [61, 749, 1183, 3315]]"
   ]
  },
  {
   "cell_type": "code",
   "execution_count": 203,
   "metadata": {},
   "outputs": [
    {
     "name": "stderr",
     "output_type": "stream",
     "text": [
      "INFO:pystan:COMPILING THE C++ CODE FOR MODEL anon_model_68669dc6862c7387ab775ba69382541f NOW.\n"
     ]
    }
   ],
   "source": [
    "stan_code = \"\"\"\n",
    "\n",
    "data {\n",
    "    int<lower=1> C;    // number of categories in the multinomial\n",
    "    vector[C] alpha;   // prior hyperparameters for Dirichlet\n",
    "    int counts[C];     // the data set: counts for each category\n",
    "}\n",
    "\n",
    "parameters {\n",
    "    simplex[C] theta;  // the probability vector over categories\n",
    "}\n",
    "\n",
    "model {\n",
    "\n",
    "    // TO DO: Write the model block\n",
    "    theta ~ dirichlet(alpha); // prior \n",
    "    counts ~ multinomial(theta); // likelihood\n",
    "\n",
    "}\n",
    "\"\"\"\n",
    "stan_model = pystan.StanModel(model_code=stan_code)"
   ]
  },
  {
   "cell_type": "code",
   "execution_count": null,
   "metadata": {
    "collapsed": true
   },
   "outputs": [],
   "source": []
  }
 ],
 "metadata": {
  "kernelspec": {
   "display_name": "Python 3",
   "language": "python",
   "name": "python3"
  },
  "language_info": {
   "codemirror_mode": {
    "name": "ipython",
    "version": 3
   },
   "file_extension": ".py",
   "mimetype": "text/x-python",
   "name": "python",
   "nbconvert_exporter": "python",
   "pygments_lexer": "ipython3",
   "version": "3.8.2"
  }
 },
 "nbformat": 4,
 "nbformat_minor": 2
}
