{
 "cells": [
  {
   "cell_type": "markdown",
   "metadata": {},
   "source": [
    "# 1. Call center data modeling\n",
    "\n",
    "Complete the call center data modeling assignment we start in the Pre-class work and Activity 2\n",
    "breakouts of Session 2.2. You may re-use and build on all code or any other work from the class\n",
    "session. In class, we completed the Bayesian data modeling problem for 1 hour of the day. In this\n",
    "assignment, you need to do the same analysis for all 24 hours of the day"
   ]
  },
  {
   "cell_type": "code",
   "execution_count": 1,
   "metadata": {
    "collapsed": true
   },
   "outputs": [],
   "source": [
    "import numpy as np\n",
    "import scipy as sp\n",
    "import scipy.stats as sts\n",
    "import matplotlib.pyplot as plt\n",
    "\n",
    "%matplotlib inline\n",
    "\n",
    "# Load the data set containing durations between calls arriving at the call\n",
    "# center during 1 day. All values are in minutes.\n",
    "waiting_times_day = np.loadtxt('call_center.csv')"
   ]
  },
  {
   "cell_type": "code",
   "execution_count": 2,
   "metadata": {
    "collapsed": true
   },
   "outputs": [],
   "source": [
    "# Make 24 empty lists, one per hour.\n",
    "waiting_times_per_hour = [[] for _ in range(24)]\n",
    "\n",
    "# Split the data into 24 separate series, one for each hour of the day.\n",
    "current_time = 0\n",
    "for t in waiting_times_day:\n",
    "    current_hour = int(current_time // 60)\n",
    "    current_time += t\n",
    "    waiting_times_per_hour[current_hour].append(t)"
   ]
  },
  {
   "cell_type": "code",
   "execution_count": 49,
   "metadata": {},
   "outputs": [],
   "source": [
    "'''\n",
    "Instead of using the functions from the 2.2 Breakout Session,\n",
    "I used a conjugate prior approach, taking advantage of the fact\n",
    "that a exponential likelihood function and a gamma conjugate prior \n",
    "gives a gamma posterior distribtuion with hyper parameters:\n",
    "    - posterior alpha = prior alpha + N\n",
    "    - posterior beta = posterior beta + Summation of likelihoods\n",
    "This is an efficient way to calculate the posterior distribution.\n",
    "'''\n",
    "\n",
    "#establish lambda values of calls per minute\n",
    "# for the prior distribution\n",
    "lambdas = np.linspace(0, 10, 501)[1:]\n",
    "\n",
    "#using same prior gamma parameters\n",
    "a_prior = 1\n",
    "b_prior = 0.25\n",
    "\n",
    "#empty list for posterior distribution for each hour, each hour's\n",
    "#distribution mean and 98% percentile bounds.\n",
    "posterior24 = []\n",
    "mean24 = []\n",
    "percentile24 = []\n",
    "\n",
    "for i in range(24):\n",
    "   \n",
    "        #new hyperparatmers\n",
    "        a_posterior = a_prior + len(waiting_times_per_hour[i])\n",
    "        b_posterior = b_prior + sum(waiting_times_per_hour[i])\n",
    "    \n",
    "        #new posterior distributions\n",
    "        post = sts.gamma(a_posterior, scale= 1/b_posterior).pdf(lambdas)\n",
    "        posterior24.append(post)\n",
    "        \n",
    "        #expected value by hyperparameter\n",
    "        m = (a_posterior/b_posterior)\n",
    "        mean24.append(m)\n",
    "        \n",
    "        #percentile bounds using ppf method\n",
    "        lower = sts.gamma(a_posterior, scale= 1/b_posterior).ppf(0.02)\n",
    "        upper = sts.gamma(a_posterior, scale= 1/b_posterior).ppf(0.98)\n",
    "        percentile24.append([lower,upper])\n",
    "       \n",
    "#positive & negative error bars\n",
    "pos_yerr = []\n",
    "neg_yerr = []\n",
    "\n",
    "for l in range(24):\n",
    "        p = percentile24[l][1] - mean24[l]\n",
    "        pos_yerr.append(p)\n",
    "        n = mean24[l] - percentile24[l][0]\n",
    "        neg_yerr.append(n)\n",
    "\n",
    "#for plotting error bars\n",
    "yerr = (pos_yerr, neg_yerr)        \n"
   ]
  },
  {
   "cell_type": "markdown",
   "metadata": {},
   "source": [
    "## 1. Compute a 98% posterior confidence interval over the number of calls per minute (the call rate λ ) for each hour of the day — so you will have 24 confidence intervals. Also, compute the posterior mean of λ for each hour of the day.\n"
   ]
  },
  {
   "cell_type": "code",
   "execution_count": 66,
   "metadata": {},
   "outputs": [
    {
     "name": "stdout",
     "output_type": "stream",
     "text": [
      "The 98% posterior confidence interval in hour 0 is [0.034164244371206805, 0.19667994023038424]\n",
      "The 98% posterior confidence interval in hour 1 is [0.022811718201854719, 0.15779841566968447]\n",
      "The 98% posterior confidence interval in hour 2 is [0.034926463369483879, 0.17483906728896756]\n",
      "The 98% posterior confidence interval in hour 3 is [0.10658157652815042, 0.43604962160068533]\n",
      "The 98% posterior confidence interval in hour 4 is [0.28552055071120547, 0.634188818934312]\n",
      "The 98% posterior confidence interval in hour 5 is [0.66913129116414827, 1.1733273552667638]\n",
      "The 98% posterior confidence interval in hour 6 is [1.2725477661840952, 1.9461113776313612]\n",
      "The 98% posterior confidence interval in hour 7 is [2.4504016845400458, 3.3471165962673139]\n",
      "The 98% posterior confidence interval in hour 8 is [3.727504948752101, 4.8221459459801137]\n",
      "The 98% posterior confidence interval in hour 9 is [5.1140859399775147, 6.3788168270362053]\n",
      "The 98% posterior confidence interval in hour 10 is [7.5347289494761798, 9.0599560899300453]\n",
      "The 98% posterior confidence interval in hour 11 is [14.324581682774376, 16.396504115639591]\n",
      "The 98% posterior confidence interval in hour 12 is [13.269982739414225, 15.266980335185069]\n",
      "The 98% posterior confidence interval in hour 13 is [5.7010170709837764, 7.0333864699877084]\n",
      "The 98% posterior confidence interval in hour 14 is [2.6461545870039926, 3.5776237930061559]\n",
      "The 98% posterior confidence interval in hour 15 is [2.9785837620220907, 3.9614200676999158]\n",
      "The 98% posterior confidence interval in hour 16 is [3.8439128345171483, 4.9507306963517737]\n",
      "The 98% posterior confidence interval in hour 17 is [6.2914750284124521, 7.6886341800856561]\n",
      "The 98% posterior confidence interval in hour 18 is [8.031749400986234, 9.5981533196677926]\n",
      "The 98% posterior confidence interval in hour 19 is [5.9836698415348781, 7.3469389031633705]\n",
      "The 98% posterior confidence interval in hour 20 is [1.9035891786398946, 2.7021403031254718]\n",
      "The 98% posterior confidence interval in hour 21 is [0.61148323288049233, 1.0838872319662898]\n",
      "The 98% posterior confidence interval in hour 22 is [0.20602847723302037, 0.51048549126357934]\n",
      "The 98% posterior confidence interval in hour 23 is [0.16686669304099475, 0.45877766218395244]\n",
      "____________________________________________________________________________________\n",
      "The posterior call rate in hour 0 is 0.0981193785773\n",
      "The posterior call rate in hour 1 is 0.0745712155108\n",
      "The posterior call rate in hour 2 is 0.0910865322056\n",
      "The posterior call rate in hour 3 is 0.242653006201\n",
      "The posterior call rate in hour 4 is 0.442332896461\n",
      "The posterior call rate in hour 5 is 0.90331214453\n",
      "The posterior call rate in hour 6 is 1.59118755643\n",
      "The posterior call rate in hour 7 is 2.88100696161\n",
      "The posterior call rate in hour 8 is 4.25692459735\n",
      "The posterior call rate in hour 9 is 5.72869591536\n",
      "The posterior call rate in hour 10 is 8.27947647721\n",
      "The posterior call rate in hour 11 is 15.3427529543\n",
      "The posterior call rate in hour 12 is 14.2506883831\n",
      "The posterior call rate in hour 13 is 6.3494231806\n",
      "The posterior call rate in hour 14 is 3.09405374438\n",
      "The posterior call rate in hour 15 is 3.4522059513\n",
      "The posterior call rate in hour 16 is 4.37953298253\n",
      "The posterior call rate in hour 17 is 6.97225160067\n",
      "The posterior call rate in hour 18 is 8.79721681856\n",
      "The posterior call rate in hour 19 is 6.64752643221\n",
      "The posterior call rate in hour 20 is 2.28511324889\n",
      "The posterior call rate in hour 21 is 0.830578050378\n",
      "The posterior call rate in hour 22 is 0.340909090909\n",
      "The posterior call rate in hour 23 is 0.294336617207\n"
     ]
    }
   ],
   "source": [
    "for i in range(24):\n",
    "    print(\"The 98% posterior confidence interval in hour\", i, \"is\", percentile24[i])\n",
    "    \n",
    "print(\"____________________________________________________________________________________\")\n",
    "\n",
    "for i in range(24):\n",
    "    print(\"The posterior call rate in hour\", i, \"is\", mean24[i])"
   ]
  },
  {
   "cell_type": "markdown",
   "metadata": {},
   "source": [
    "## 2. Present your results graphically using Matplotlib. Make a plot that looks like the one below. Each dot is at the posterior mean and each line shows a 98% confidence interval for a λ. You can use the errorbar() function in the plotting library to do this."
   ]
  },
  {
   "cell_type": "code",
   "execution_count": 50,
   "metadata": {},
   "outputs": [
    {
     "data": {
      "image/png": "[encoded data removed]",
      "text/plain": [
       "<matplotlib.figure.Figure at 0x10f169e80>"
      ]
     },
     "metadata": {},
     "output_type": "display_data"
    }
   ],
   "source": [
    "#plotting graph\n",
    "plt.figure(figsize=(20, 8))\n",
    "plt.errorbar(range(24), mean24, yerr = yerr,fmt='o', capsize=5)\n",
    "plt.title('Mean and 98% confidence interval over call rate')\n",
    "plt.xlabel('Hour of the day')\n",
    "plt.ylabel('Call rate (calls per minute)')\n",
    "plt.show()"
   ]
  },
  {
   "cell_type": "markdown",
   "metadata": {},
   "source": [
    "## 3. Write a paragraph (100–200 words) to accompany your plot and present your findings to the client. Carefully summarize how many calls you expect during different parts of the day, and how much uncertainty there is in your estimates. Remember that the client is not an expert in statistics, so make it easy for them to understand. You may also make additional plots to help communicate your results."
   ]
  },
  {
   "cell_type": "markdown",
   "metadata": {},
   "source": [
    "Summarising the data briefly, we can see that in general, the number of phone calls is low during the night and high during the day time, and the variation in call rates are higher when there are the call rate is higher. The model matches intuition, since expect people to call during the day and not at night, and there is a higher chance for the call rate to fluctuate if there are more calls than compared to when there are few calls.\n",
    "\n",
    "From midnight 12am to 10am in the morning, the number of phone calls steadily increases from close to 0 to around 8 calls a minute at 10am, with uncertainty in our estimates growing by the hour. This uncertainty can be explained by how we are less certain about our estimates when there are more calls per minute, since there could be minutes with many calls and few calls, and in peak periods, this would mean we are less certain about how many calls there would be. \n",
    "\n",
    "There's a high peak period at midday hours of 11am and 12pm at approximately 14 calls a minute give or take 2 calls a minute, and a smaller peak period in the late afternoon of 5pm to 7pm. The call rate subsequently trails off following 7pm into midnight and the next morning. Similarly, we can observe how the variation in calls per minute is high, almost 1 or 2 calls a minute in peak periods, to maybe 1 call every 30 seconds in less busy periods. \n",
    "\n",
    "This model is intuitive, as we can expect people to call during lunch hour and after work hours, which mostly correspond to the peak periods in our model, and not to call during the middle of the night, which also corresponds to the less busy periods in the model."
   ]
  },
  {
   "cell_type": "markdown",
   "metadata": {},
   "source": [
    "# 2. Stretch goal (optional)\n",
    "\n",
    "Explain how the compute_posterior function (reproduced below) from Lesson 2.2 works. We\n",
    "discussed the function briefly in class. For a complete answer you need to address all the points\n",
    "below. You can also add any other information you think is relevant to the techniques used in the\n",
    "function."
   ]
  },
  {
   "cell_type": "code",
   "execution_count": 296,
   "metadata": {
    "collapsed": true
   },
   "outputs": [],
   "source": [
    "def compute_posterior(parameter_values, prior, likelihood, data):\n",
    "    log_prior = np.log(prior(parameter_values))\n",
    "    log_likelihood = np.array([\n",
    "        np.sum(np.log(likelihood(param, data)))\n",
    "        for param in parameter_values])\n",
    "    unnormalized_log_posterior = log_prior + log_likelihood\n",
    "    unnormalized_log_posterior -= max(unnormalized_log_posterior)\n",
    "    unnormalized_posterior = np.exp(unnormalized_log_posterior)\n",
    "    area = sp.integrate.trapz(unnormalized_posterior, parameter_values)\n",
    "    posterior = unnormalized_posterior / area\n",
    "    return posterior"
   ]
  },
  {
   "cell_type": "markdown",
   "metadata": {},
   "source": [
    "The purpose of the function is to multiply the prior and likelihood passed as input arguments\n",
    "and to return the posterior as output. Explain how the function achieves this purpose using\n",
    "logarithms.\n",
    "\n",
    "2. What is the purpose of np.sum() in line 4?\n",
    "    - We use np.sum to find the log_likelihood because if we transform our likelihoods into log-likelihoods, we  add our log_likelihoods together instead of multiplying our likelihoods due to the mathetical rules of logarithmic  operations. We avoid multiplying likelihoods because our likelihood can quickly approach 0 if our likelihoods have small values, which would result in computational underflow.\n",
    "\n",
    "3. Explain why the maximum of the unnormalized log posterior is subtracted in line 7.\n",
    "    - We subtract the maximum of the unnormalised log posterior because we are taking the exponent of the unnormalised log posterior to transform back from log space, and having very large or small values for the unnormalised log posterior would again result in underflow or overflow. Subtracting the maximum, would result in a smaller negative posterior and furthur from approaching 0, or a smaller positive posterior and furthur from approaching infinity. Since taking the exponent results in such large or small numbers relative to input, we can make the input smaller without affecting the resulting output as much comparatively.\n",
    "    \n",
    "4. Why do we still have to divided by the area in line 10 even after having subtracted the maximum of the unnormalized log posterior in line 7?\n",
    "    - We divide by the area to normalise the posterior to make sure that the posterior is a probability distribution whose integral sums to 1.\n",
    "5. Create an example where not taking logarithms would cause a problem. Create a prior, likelihood, and data set that fails to produce the correct posterior when we don’t take logs. Show all your code and visualize your results on one or more plots"
   ]
  },
  {
   "cell_type": "code",
   "execution_count": 77,
   "metadata": {},
   "outputs": [
    {
     "data": {
      "text/plain": [
       "array([ 0.00445701,  0.00891092,  0.01336172,  0.01780943,  0.02225404,\n",
       "        0.02669555,  0.03113398,  0.03556932,  0.04000158,  0.04443075,\n",
       "        0.04885685,  0.05327988,  0.05769983,  0.06211672,  0.06653054,\n",
       "        0.07094131,  0.07534901,  0.07975367,  0.08415527,  0.08855382,\n",
       "        0.09294933,  0.09734179,  0.10173122,  0.10611761,  0.11050097,\n",
       "        0.1148813 ,  0.11925861,  0.12363289,  0.12800415,  0.1323724 ,\n",
       "        0.13673763,  0.14109986,  0.14545907,  0.14981528,  0.1541685 ,\n",
       "        0.15851871,  0.16286593,  0.16721016,  0.1715514 ,  0.17588965,\n",
       "        0.18022492,  0.18455721,  0.18888653,  0.19321287,  0.19753625,\n",
       "        0.20185665,  0.2061741 ,  0.21048858,  0.21480011,  0.21910868,\n",
       "        0.22341429,  0.22771697,  0.23201669,  0.23631347,  0.24060732,\n",
       "        0.24489822,  0.2491862 ,  0.25347124,  0.25775336,  0.26203255,\n",
       "        0.26630882,  0.27058217,  0.27485261,  0.27912013,  0.28338475,\n",
       "        0.28764646,  0.29190526,  0.29616117,  0.30041417,  0.30466429,\n",
       "        0.30891151,  0.31315584,  0.31739729,  0.32163586,  0.32587154,\n",
       "        0.33010435,  0.33433429,  0.33856135,  0.34278555,  0.34700688,\n",
       "        0.35122535,  0.35544096,  0.35965371,  0.36386362,  0.36807067,\n",
       "        0.37227487,  0.37647623,  0.38067474,  0.38487042,  0.38906327,\n",
       "        0.39325327,  0.39744045,  0.40162481,  0.40580633,  0.40998504,\n",
       "        0.41416093,  0.418334  ,  0.42250426,  0.4266717 ,  0.43083635,\n",
       "        0.43499818,  0.43915722,  0.44331345,  0.4474669 ,  0.45161754,\n",
       "        0.4557654 ,  0.45991047,  0.46405276,  0.46819226,  0.47232898,\n",
       "        0.47646293,  0.48059411,  0.48472251,  0.48884815,  0.49297102,\n",
       "        0.49709113,  0.50120848,  0.50532307,  0.50943491,  0.513544  ,\n",
       "        0.51765034,  0.52175394,  0.52585479,  0.5299529 ,  0.53404828,\n",
       "        0.53814092,  0.54223083,  0.546318  ,  0.55040246,  0.55448419,\n",
       "        0.5585632 ,  0.56263949,  0.56671306,  0.57078392,  0.57485208,\n",
       "        0.57891752,  0.58298026,  0.5870403 ,  0.59109764,  0.59515228,\n",
       "        0.59920423,  0.60325349,  0.60730006,  0.61134395,  0.61538515,\n",
       "        0.61942367,  0.62345951,  0.62749268,  0.63152318,  0.635551  ,\n",
       "        0.63957616,  0.64359866,  0.64761849,  0.65163567,  0.65565019,\n",
       "        0.65966205,  0.66367126,  0.66767783,  0.67168175,  0.67568302,\n",
       "        0.67968166,  0.68367766,  0.68767102,  0.69166175,  0.69564984,\n",
       "        0.69963532,  0.70361816,  0.70759839,  0.71157599,  0.71555098,\n",
       "        0.71952335,  0.72349311,  0.72746026,  0.73142481,  0.73538675,\n",
       "        0.73934608,  0.74330282,  0.74725697,  0.75120851,  0.75515747,\n",
       "        0.75910384,  0.76304762,  0.76698882,  0.77092744,  0.77486348,\n",
       "        0.77879694,  0.78272783,  0.78665614,  0.79058189,  0.79450507,\n",
       "        0.79842569,  0.80234375,  0.80625925,  0.8101722 ,  0.81408259,\n",
       "        0.81799042,  0.82189572,  0.82579846,  0.82969866,  0.83359632,\n",
       "        0.83749144,  0.84138403,  0.84527408,  0.8491616 ,  0.85304659,\n",
       "        0.85692906,  0.860809  ,  0.86468642,  0.86856133,  0.87243371,\n",
       "        0.87630359,  0.88017095,  0.8840358 ,  0.88789815,  0.89175799,\n",
       "        0.89561533,  0.89947017,  0.90332251,  0.90717236,  0.91101972,\n",
       "        0.91486459,  0.91870697,  0.92254687,  0.92638428,  0.93021922,\n",
       "        0.93405167,  0.93788166,  0.94170917,  0.94553421,  0.94935678,\n",
       "        0.95317688,  0.95699453,  0.96080971,  0.96462243,  0.9684327 ,\n",
       "        0.97224052,  0.97604588,  0.9798488 ,  0.98364927,  0.98744729,\n",
       "        0.99124287,  0.99503602,  0.99882672,  1.002615  ,  1.00640084,\n",
       "        1.01018425,  1.01396523,  1.01774379,  1.02151992,  1.02529363,\n",
       "        1.02906493,  1.03283381,  1.03660027,  1.04036433,  1.04412597,\n",
       "        1.04788521,  1.05164205,  1.05539648,  1.05914851,  1.06289815,\n",
       "        1.06664539,  1.07039024,  1.07413269,  1.07787276,  1.08161044,\n",
       "        1.08534574,  1.08907866,  1.0928092 ,  1.09653736,  1.10026315,\n",
       "        1.10398656,  1.10770761,  1.11142628,  1.1151426 ,  1.11885654,\n",
       "        1.12256813,  1.12627736,  1.12998423,  1.13368875,  1.13739091,\n",
       "        1.14109073,  1.1447882 ,  1.14848332,  1.1521761 ,  1.15586654,\n",
       "        1.15955464,  1.16324041,  1.16692384,  1.17060494,  1.1742837 ,\n",
       "        1.17796014,  1.18163426,  1.18530605,  1.18897552,  1.19264268,\n",
       "        1.19630751,  1.19997004,  1.20363025,  1.20728815,  1.21094374,\n",
       "        1.21459703,  1.21824801,  1.22189669,  1.22554307,  1.22918716,\n",
       "        1.23282895,  1.23646845,  1.24010566,  1.24374058,  1.24737322,\n",
       "        1.25100357,  1.25463164,  1.25825743,  1.26188094,  1.26550218,\n",
       "        1.26912114,  1.27273783,  1.27635226,  1.27996441,  1.28357431,\n",
       "        1.28718194,  1.29078731,  1.29439042,  1.29799127,  1.30158988,\n",
       "        1.30518623,  1.30878033,  1.31237218,  1.31596179,  1.31954915,\n",
       "        1.32313427,  1.32671716,  1.3302978 ,  1.33387621,  1.33745239,\n",
       "        1.34102634,  1.34459806,  1.34816755,  1.35173482,  1.35529986,\n",
       "        1.35886268,  1.36242329,  1.36598168,  1.36953786,  1.37309182,\n",
       "        1.37664357,  1.38019312,  1.38374046,  1.38728559,  1.39082853,\n",
       "        1.39436926,  1.3979078 ,  1.40144414,  1.40497828,  1.40851024,\n",
       "        1.41204   ,  1.41556758,  1.41909297,  1.42261618,  1.42613721,\n",
       "        1.42965606,  1.43317273,  1.43668722,  1.44019954,  1.44370969,\n",
       "        1.44721767,  1.45072349,  1.45422713,  1.45772862,  1.46122794,\n",
       "        1.46472511,  1.46822011,  1.47171296,  1.47520366,  1.47869221,\n",
       "        1.48217861,  1.48566286,  1.48914496,  1.49262492,  1.49610274,\n",
       "        1.49957842,  1.50305196,  1.50652337,  1.50999264,  1.51345978,\n",
       "        1.5169248 ,  1.52038768,  1.52384844,  1.52730707,  1.53076359,\n",
       "        1.53421798,  1.53767025,  1.54112041,  1.54456846,  1.54801439,\n",
       "        1.55145821,  1.55489993,  1.55833954,  1.56177704,  1.56521244,\n",
       "        1.56864574,  1.57207695,  1.57550605,  1.57893306,  1.58235798,\n",
       "        1.58578081,  1.58920155,  1.5926202 ,  1.59603676,  1.59945125,\n",
       "        1.60286365,  1.60627397,  1.60968221,  1.61308838,  1.61649248,\n",
       "        1.6198945 ,  1.62329445,  1.62669234,  1.63008816,  1.63348191,\n",
       "        1.6368736 ,  1.64026323,  1.6436508 ,  1.64703632,  1.65041978,\n",
       "        1.65380119,  1.65718054,  1.66055785,  1.66393311,  1.66730632,\n",
       "        1.67067749,  1.67404662,  1.67741371,  1.68077876,  1.68414177,\n",
       "        1.68750275,  1.69086169,  1.69421861,  1.69757349,  1.70092635,\n",
       "        1.70427718,  1.70762599,  1.71097278,  1.71431755,  1.7176603 ,\n",
       "        1.72100103,  1.72433975,  1.72767646,  1.73101115,  1.73434384,\n",
       "        1.73767452,  1.74100319,  1.74432986,  1.74765453,  1.7509772 ,\n",
       "        1.75429787,  1.75761655,  1.76093323,  1.76424791,  1.76756061,\n",
       "        1.77087132,  1.77418004,  1.77748677,  1.78079152,  1.78409429,\n",
       "        1.78739508,  1.79069388,  1.79399072,  1.79728558,  1.80057846,\n",
       "        1.80386937,  1.80715832,  1.81044529,  1.8137303 ,  1.81701335,\n",
       "        1.82029443,  1.82357355,  1.82685071,  1.83012592,  1.83339917,\n",
       "        1.83667047,  1.83993981,  1.8432072 ,  1.84647265,  1.84973615,\n",
       "        1.8529977 ,  1.85625731,  1.85951498,  1.86277071,  1.8660245 ,\n",
       "        1.86927635,  1.87252627,  1.87577425,  1.87902031,  1.88226443,\n",
       "        1.88550663,  1.8887469 ,  1.89198525,  1.89522167,  1.89845617])"
      ]
     },
     "execution_count": 77,
     "metadata": {},
     "output_type": "execute_result"
    }
   ],
   "source": [
    "lambdas = np.linspace(0, 1, 501)[1:]\n",
    "\n",
    "def prior(lambda_):\n",
    "    return sts.gamma(30, scale=1/0.20).pdf(lambda_)\n",
    "\n",
    "def likelihood(lambda_, datum):\n",
    "    return sts.expon(scale=1/lambda_).pdf(datum)\n",
    "\n",
    "def compute_posterior(parameter_values, prior, likelihood, data):\n",
    "    prior = prior(parameter_values)\n",
    "    likelihood = np.array([\n",
    "        np.sum(likelihood(param, data))\n",
    "        for param in parameter_values])\n",
    "    unnormalized_posterior = prior + likelihood\n",
    "    area = sp.integrate.trapz(unnormalized_posterior, parameter_values)\n",
    "    posterior = unnormalized_posterior / area\n",
    "    return posterior\n",
    "\n",
    "posterior = compute_posterior(lambdas, prior, likelihood, waiting_times_per_hour[9])\n",
    "posterior"
   ]
  },
  {
   "cell_type": "code",
   "execution_count": 78,
   "metadata": {},
   "outputs": [
    {
     "data": {
      "image/png": "[encoded data removed]",
      "text/plain": [
       "<matplotlib.figure.Figure at 0x1a176e4e10>"
      ]
     },
     "metadata": {},
     "output_type": "display_data"
    }
   ],
   "source": [
    "# YOU NEED TO PLOT THE PRIOR AND POSTERIOR ON THE SAME AXES.\n",
    "plt.figure(figsize=(8, 6))\n",
    "plt.plot(lambdas, prior(lambdas), color='black', linestyle=':', label='prior')\n",
    "plt.plot(lambdas, posterior, label='posterior')\n",
    "plt.xlabel('λ [calls per minute]')\n",
    "plt.ylabel('probability density')\n",
    "plt.title(f'Inference results for hour {hour_index}')\n",
    "plt.legend()\n",
    "plt.show()"
   ]
  },
  {
   "cell_type": "code",
   "execution_count": null,
   "metadata": {
    "collapsed": true
   },
   "outputs": [],
   "source": []
  }
 ],
 "metadata": {
  "kernelspec": {
   "display_name": "Python 3",
   "language": "python",
   "name": "python3"
  },
  "language_info": {
   "codemirror_mode": {
    "name": "ipython",
    "version": 3
   },
   "file_extension": ".py",
   "mimetype": "text/x-python",
   "name": "python",
   "nbconvert_exporter": "python",
   "pygments_lexer": "ipython3",
   "version": "3.6.3"
  }
 },
 "nbformat": 4,
 "nbformat_minor": 2
}
