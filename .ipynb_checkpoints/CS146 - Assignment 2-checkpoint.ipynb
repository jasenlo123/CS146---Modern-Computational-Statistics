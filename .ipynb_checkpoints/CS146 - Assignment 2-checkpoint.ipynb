{
 "cells": [
  {
   "cell_type": "markdown",
   "metadata": {},
   "source": [
    "# 1. Call center data modeling\n",
    "\n",
    "Complete the call center data modeling assignment we start in the Pre-class work and Activity 2\n",
    "breakouts of Session 2.2. You may re-use and build on all code or any other work from the class\n",
    "session.\n",
    "In class, we completed the Bayesian data modeling problem for 1 hour of the day. In this\n",
    "assignment, you need to do the same analysis for all 24 hours of the day\n",
    "\n",
    "1. Compute a 98% posterior confidence interval over the number of calls per minute (the call\n",
    "rate λ ) for each hour of the day — so you will have 24 confidence intervals. Also, compute\n",
    "the posterior mean of λ for each hour of the day.\n",
    "2. Present your results graphically using Matplotlib. Make a plot that looks like the one below.\n",
    "Each dot is at the posterior mean and each line shows a 98% confidence interval for a λ.\n",
    "You can use the errorbar() function in the plotting library to do this."
   ]
  },
  {
   "cell_type": "code",
   "execution_count": 370,
   "metadata": {
    "collapsed": true
   },
   "outputs": [],
   "source": [
    "import numpy as np\n",
    "import scipy as sp\n",
    "import scipy.stats as sts\n",
    "import matplotlib.pyplot as plt\n",
    "\n",
    "%matplotlib inline\n",
    "\n",
    "# Load the data set containing durations between calls arriving at the call\n",
    "# center during 1 day. All values are in minutes.\n",
    "waiting_times_day = np.loadtxt('call_center.csv')"
   ]
  },
  {
   "cell_type": "code",
   "execution_count": 371,
   "metadata": {
    "collapsed": true
   },
   "outputs": [],
   "source": [
    "# Make 24 empty lists, one per hour.\n",
    "waiting_times_per_hour = [[] for _ in range(24)]\n",
    "\n",
    "# Split the data into 24 separate series, one for each hour of the day.\n",
    "current_time = 0\n",
    "for t in waiting_times_day:\n",
    "    current_hour = int(current_time // 60)\n",
    "    current_time += t\n",
    "    waiting_times_per_hour[current_hour].append(t)\n"
   ]
  },
  {
   "cell_type": "code",
   "execution_count": 269,
   "metadata": {},
   "outputs": [
    {
     "data": {
      "image/png": "[encoded data removed]",
      "text/plain": [
       "<matplotlib.figure.Figure at 0x1a1d40e0b8>"
      ]
     },
     "metadata": {},
     "output_type": "display_data"
    }
   ],
   "source": [
    "# Plot histogram of waiting times for one hour\n",
    "hour_index = 2\n",
    "waiting_times_hour = waiting_times_per_hour[hour_index]\n",
    "\n",
    "plt.figure(figsize=(8, 6))\n",
    "plt.hist(waiting_times_hour, bins=20)\n",
    "plt.xlabel('Time between calls [minutes]')\n",
    "plt.ylabel('Count')\n",
    "plt.title(f'Histogram of waiting times for hour {hour_index}')\n",
    "plt.show()"
   ]
  },
  {
   "cell_type": "code",
   "execution_count": 301,
   "metadata": {
    "collapsed": true
   },
   "outputs": [],
   "source": [
    "# DEFINE THE PRIOR DISTRIBUTION\n",
    "\n",
    "# This function takes 1 input, namely the parameter value (λ) at which to\n",
    "# compute the prior probability density. You need to evaluate the distribution\n",
    "# Gamma(λ | α, β).\n",
    "\n",
    "def prior(lambda_):\n",
    "    return sts.gamma(1, scale=1/0.25).pdf(lambda_)\n",
    "\n",
    "# PLOT THE PRIOR\n",
    "lambdas = np.linspace(0, 10, 501)[1:]"
   ]
  },
  {
   "cell_type": "code",
   "execution_count": 299,
   "metadata": {
    "collapsed": true
   },
   "outputs": [],
   "source": [
    "# DEFINE THE LIKELIHOOD FUNCTION\n",
    "#\n",
    "# This function takes 2 inputs, namely the parameter (λ) value at which to\n",
    "# compute the likelihood and a value from the data set. You need to evaluate\n",
    "# the exponential distribution of the datum given the parameter value.\n",
    "\n",
    "def likelihood(lambda_, datum):\n",
    "    return sts.expon(scale=1/lambda_).pdf(datum)\n",
    "\n",
    "# THE POSTERIOR DISTRIBUTION\n",
    "#\n",
    "# The function below is provided to help make computing the posterior easier. It\n",
    "# follows the same pattern as in the previous class, where we multiple the prior\n",
    "# and the likelihood evaluated at various values of the parameter (λ).\n",
    "#\n",
    "# You will see the function uses the logarithms of various distributions. This\n",
    "# is for numerical reasons. When you multiply lots of likelihood values, the\n",
    "# result can become very large or very small, causing numerical overflow or\n",
    "# underflow in Python. Taking logarithms avoids this problem.\n",
    "\n",
    "def compute_posterior(parameter_values, prior, likelihood, data):\n",
    "    log_prior = np.log(prior(parameter_values))\n",
    "    log_likelihood = np.array([\n",
    "        np.sum(np.log(likelihood(param, data)))\n",
    "        for param in parameter_values])\n",
    "    unnormalized_log_posterior = log_prior + log_likelihood\n",
    "    unnormalized_log_posterior -= max(unnormalized_log_posterior)\n",
    "    unnormalized_posterior = np.exp(unnormalized_log_posterior)\n",
    "    area = sp.integrate.trapz(unnormalized_posterior, parameter_values)\n",
    "    posterior = unnormalized_posterior / area\n",
    "    return posterior"
   ]
  },
  {
   "cell_type": "code",
   "execution_count": 300,
   "metadata": {
    "collapsed": true
   },
   "outputs": [],
   "source": [
    "def compute_percentile(parameter_values, distribution_values, percentile):\n",
    "    '''\n",
    "    Compute the parameter value at a particular percentile of the given\n",
    "    probability distribution values. This function uses the cumulative trapezoid\n",
    "    integrator in SciPy.\n",
    "\n",
    "    Inputs:\n",
    "\n",
    "        parameter_values (array of float) This is the list of parameter values\n",
    "          at which the probability distribution has been evaluated.\n",
    "\n",
    "        distribution_values (array of float) This is the list of values of the\n",
    "          probability density function evaluated at the parameter values above.\n",
    "\n",
    "        percentile (float) This is the value between 0 and 1 of the percentile\n",
    "          to compute.\n",
    "\n",
    "    Returns: (float) The parameter value at the given percentile.\n",
    "    '''\n",
    "    cumulative_distribution = sp.integrate.cumtrapz(\n",
    "        distribution_values, parameter_values)\n",
    "    percentile_index = np.searchsorted(cumulative_distribution, percentile)\n",
    "    return lambdas[percentile_index]"
   ]
  },
  {
   "cell_type": "code",
   "execution_count": 349,
   "metadata": {
    "collapsed": true
   },
   "outputs": [],
   "source": [
    "'''\n",
    "Calculate posterior distribution for each hour and \n",
    "the corresponding mean and 98% confidence interval \n",
    "of each hour's posterior distribution\n",
    "'''\n",
    "\n",
    "posterior24 = []\n",
    "for i in range(24):\n",
    "    hour_index = i\n",
    "    waiting_times_hour = waiting_times_per_hour[hour_index]\n",
    "    \n",
    "    p = compute_posterior(lambdas, prior, likelihood, waiting_times_hour)\n",
    "    posterior24.append(p)\n",
    "\n",
    "    \n",
    "mean24 = []\n",
    "for k in range(24):\n",
    "    mean = sp.integrate.trapz(posterior24[k] * lambdas, lambdas)\n",
    "    mean24.append(mean)\n",
    "    \n",
    "#98% confidence interval\n",
    "pos_yerr = []\n",
    "neg_yerr = []\n",
    "for l in range(24):\n",
    "    p = percentile24[l][1] - mean24[l]\n",
    "    pos_yerr.append(p)\n",
    "    n = mean24[l] - percentile24[l][0]\n",
    "    neg_yerr.append(n)\n",
    "\n",
    "yerr = (pos_yerr, neg_yerr)"
   ]
  },
  {
   "cell_type": "code",
   "execution_count": 450,
   "metadata": {},
   "outputs": [
    {
     "name": "stdout",
     "output_type": "stream",
     "text": [
      "0.0981193785773\n",
      "0.0745712155108\n",
      "0.0910865322056\n",
      "0.242653006201\n",
      "0.442332896461\n",
      "0.90331214453\n",
      "1.59118755643\n",
      "2.88100696161\n",
      "4.25692459735\n",
      "5.72869591536\n",
      "8.27947647721\n",
      "15.3427529543\n",
      "14.2506883831\n",
      "6.3494231806\n",
      "3.09405374438\n",
      "3.4522059513\n",
      "4.37953298253\n",
      "6.97225160067\n",
      "8.79721681856\n",
      "6.64752643221\n",
      "2.28511324889\n",
      "0.830578050378\n",
      "0.340909090909\n",
      "0.294336617207\n"
     ]
    },
    {
     "data": {
      "image/png": "[encoded data removed]",
      "text/plain": [
       "<matplotlib.figure.Figure at 0x1a1d55da58>"
      ]
     },
     "metadata": {},
     "output_type": "display_data"
    }
   ],
   "source": [
    "    \n",
    "a_prior = 1\n",
    "b_prior = 0.25\n",
    "\n",
    "posterior24 = []\n",
    "mean24 = []\n",
    "for i in range(24):\n",
    "   \n",
    "        a_posterior = a_prior + len(waiting_times_per_hour[i])\n",
    "        b_posterior = b_prior + sum(waiting_times_per_hour[i])\n",
    "    \n",
    "        p = sts.gamma(a_posterior, scale= 1/b_posterior).pdf(lambdas)\n",
    "        posterior24.append(p)\n",
    "        \n",
    "        m = (a_posterior/b_posterior)\n",
    "        mean24.append(m)\n",
    "        print(m)\n",
    "    "
   ]
  },
  {
   "cell_type": "code",
   "execution_count": null,
   "metadata": {
    "collapsed": true
   },
   "outputs": [],
   "source": []
  },
  {
   "cell_type": "code",
   "execution_count": null,
   "metadata": {},
   "outputs": [],
   "source": [
    "#98% confidence interval  \n",
    "percentile24 = []\n",
    "for j in range(24):\n",
    "    per = [compute_percentile(lambdas, posterior24[j], p) for p in [0.02, 0.98]]\n",
    "    percentile24.append(per)\n",
    "    \n",
    "\n",
    "pos_yerr = []\n",
    "neg_yerr = []\n",
    "for l in range(24):\n",
    "        p = percentile24[l][1] - mean24[l]\n",
    "        pos_yerr.append(p)\n",
    "        n = mean24[l] - percentile24[l][0]\n",
    "        neg_yerr.append(n)\n",
    "\n",
    "yerr = (pos_yerr, neg_yerr)\n",
    "yerr"
   ]
  },
  {
   "cell_type": "code",
   "execution_count": 452,
   "metadata": {},
   "outputs": [
    {
     "data": {
      "image/png": "[encoded data removed]",
      "text/plain": [
       "<matplotlib.figure.Figure at 0x112a47080>"
      ]
     },
     "metadata": {},
     "output_type": "display_data"
    }
   ],
   "source": [
    "plt.figure(figsize=(20, 8))\n",
    "plt.errorbar(range(24), mean24, yerr = yerr,fmt='o', capsize=5)\n",
    "plt.title('Mean and 98% confidence interval over call rate')\n",
    "plt.xlabel('Hour of the day')\n",
    "plt.ylabel('Call rate (calls per minute)')\n",
    "plt.show()"
   ]
  },
  {
   "cell_type": "markdown",
   "metadata": {},
   "source": [
    "# 3\n",
    "Write a paragraph (100–200 words) to accompany your plot and present your findings to\n",
    "the client. Carefully summarize how many calls you expect during different parts of the day,\n",
    "and how much uncertainty there is in your estimates. Remember that the client is not an\n",
    "expert in statistics, so make it easy for them to understand. You may also make additional\n",
    "plots to help communicate your results."
   ]
  },
  {
   "cell_type": "markdown",
   "metadata": {},
   "source": [
    "Summarising the data briefly, we can see that the number of phone calls is low during the night and high during the day time, with a high peak period at midday hours of 11am and 12pm, and a smaller peak period in the late afternoon of 5pm to 7pm. This model is intuitive, as we can expect people to call during lunch hour and after work hours, and not to call in the middle of the night. \n",
    "\n",
    "From midnight (0000) to 10am in the morning, the number of phone calls steadily"
   ]
  },
  {
   "cell_type": "markdown",
   "metadata": {},
   "source": [
    "# 2. Stretch goal (optional)\n",
    "\n",
    "Explain how the compute_posterior function (reproduced below) from Lesson 2.2 works. We\n",
    "discussed the function briefly in class. For a complete answer you need to address all the points\n",
    "below. You can also add any other information you think is relevant to the techniques used in the\n",
    "function."
   ]
  },
  {
   "cell_type": "code",
   "execution_count": 296,
   "metadata": {
    "collapsed": true
   },
   "outputs": [],
   "source": [
    "def compute_posterior(parameter_values, prior, likelihood, data):\n",
    "    log_prior = np.log(prior(parameter_values))\n",
    "    log_likelihood = np.array([\n",
    "        np.sum(np.log(likelihood(param, data)))\n",
    "        for param in parameter_values])\n",
    "    unnormalized_log_posterior = log_prior + log_likelihood\n",
    "    unnormalized_log_posterior -= max(unnormalized_log_posterior)\n",
    "    unnormalized_posterior = np.exp(unnormalized_log_posterior)\n",
    "    area = sp.integrate.trapz(unnormalized_posterior, parameter_values)\n",
    "    posterior = unnormalized_posterior / area\n",
    "    return posterior"
   ]
  },
  {
   "cell_type": "code",
   "execution_count": null,
   "metadata": {
    "collapsed": true
   },
   "outputs": [],
   "source": []
  }
 ],
 "metadata": {
  "kernelspec": {
   "display_name": "Python 3",
   "language": "python",
   "name": "python3"
  },
  "language_info": {
   "codemirror_mode": {
    "name": "ipython",
    "version": 3
   },
   "file_extension": ".py",
   "mimetype": "text/x-python",
   "name": "python",
   "nbconvert_exporter": "python",
   "pygments_lexer": "ipython3",
   "version": "3.6.3"
  }
 },
 "nbformat": 4,
 "nbformat_minor": 2
}
